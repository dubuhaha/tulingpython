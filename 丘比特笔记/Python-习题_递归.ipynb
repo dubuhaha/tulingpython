{
 "cells": [
  {
   "cell_type": "code",
   "execution_count": 40,
   "metadata": {},
   "outputs": [],
   "source": [
    "# 类似于栈的先进后出模式\n",
    "# 1. 需要有递推关系\n",
    "# 2. 需要有临界值\n",
    "def digui(num):\n",
    "    print(num)\n",
    "    # 临界值\n",
    "    if num > 0:\n",
    "        digui(num-1)\n",
    "    else:\n",
    "        print('=' * 20)\n",
    "    print(num)\n",
    "          \n",
    "#digui(3)"
   ]
  },
  {
   "cell_type": "code",
   "execution_count": 3,
   "metadata": {},
   "outputs": [],
   "source": [
    "i = 0\n",
    "def move(n, a='A', b='B', c='C'):\n",
    "    global i\n",
    "    if n == 0:\n",
    "        print(\"没有怎么玩？\")\n",
    "    elif n == 1:\n",
    "        i += 1\n",
    "        print('移动第{}次: '.format(i), a,'--->',c)\n",
    "    else:\n",
    "        move(n-1,a, c, b)\n",
    "        move(1, a, b, c)\n",
    "        move(n-1, b, a, c)\n",
    "        \n",
    "#move(4)"
   ]
  },
  {
   "cell_type": "code",
   "execution_count": 6,
   "metadata": {
    "scrolled": true
   },
   "outputs": [
    {
     "name": "stdout",
     "output_type": "stream",
     "text": [
      "移动第2次:  A ---> B\n",
      "移动第3次:  A ---> C\n",
      "移动第4次:  B ---> C\n"
     ]
    }
   ],
   "source": [
    "move(2)"
   ]
  },
  {
   "cell_type": "code",
   "execution_count": 24,
   "metadata": {},
   "outputs": [
    {
     "name": "stdout",
     "output_type": "stream",
     "text": [
      "260468\n"
     ]
    }
   ],
   "source": [
    "# 获取文件夹大小\n",
    "import os\n",
    "def getdirpath(dirpath):\n",
    "    total = 0\n",
    "    allname = os.listdir(dirpath)\n",
    "    for name in allname:\n",
    "        fullpath = os.path.join(dirpath, name)\n",
    "        if os.path.isfile(fullpath):\n",
    "            total += os.path.getsize(fullpath)\n",
    "        elif os.path.isdir(fullpath):\n",
    "            total += getdirpath(fullpath)\n",
    "    return total\n",
    "    print(total)\n",
    "\n",
    "size = getdirpath('C:\\\\Users\\\\liujinghui\\\\丘比特笔记')\n",
    "print(size)"
   ]
  },
  {
   "cell_type": "code",
   "execution_count": 30,
   "metadata": {},
   "outputs": [
    {
     "name": "stdout",
     "output_type": "stream",
     "text": [
      "6\n",
      "5\n"
     ]
    }
   ],
   "source": [
    "import math\n",
    "\n",
    "# ceil() 向上取整\n",
    "print(math.ceil(5.01))\n",
    "\n",
    "# floor() 向下取整\n",
    "\n",
    "print(math.floor(5.99))"
   ]
  },
  {
   "cell_type": "code",
   "execution_count": 31,
   "metadata": {},
   "outputs": [
    {
     "name": "stdout",
     "output_type": "stream",
     "text": [
      "['False', 'None', 'True', 'and', 'as', 'assert', 'async', 'await', 'break', 'class', 'continue', 'def', 'del', 'elif', 'else', 'except', 'finally', 'for', 'from', 'global', 'if', 'import', 'in', 'is', 'lambda', 'nonlocal', 'not', 'or', 'pass', 'raise', 'return', 'try', 'while', 'with', 'yield']\n"
     ]
    }
   ],
   "source": [
    "import keyword\n",
    "\n",
    "print(keyword.kwlist)"
   ]
  },
  {
   "cell_type": "code",
   "execution_count": 32,
   "metadata": {},
   "outputs": [
    {
     "name": "stdout",
     "output_type": "stream",
     "text": [
      "5\n",
      "6\n"
     ]
    }
   ],
   "source": [
    "# round() 四舍五入\n",
    "print(round(5.01))\n",
    "print(round(5.52))"
   ]
  },
  {
   "cell_type": "code",
   "execution_count": 52,
   "metadata": {},
   "outputs": [
    {
     "name": "stdout",
     "output_type": "stream",
     "text": [
      "3.0\n",
      "0.8939966636005579\n",
      "81.0\n",
      "125.0\n",
      "1e+19\n",
      "2\n"
     ]
    }
   ],
   "source": [
    "# sqrt() 开方，返回浮点数\n",
    "print(math.sqrt(9))\n",
    "\n",
    "print(math.sin(90))\n",
    "\n",
    "# pow() 指数运算  返回浮点数\n",
    "print(math.pow(3,4))\n",
    "print(math.pow(5,3))\n",
    "\n",
    "# fabs() 获取绝对值\n",
    "\n",
    "print(math.fabs(-9))\n",
    "\n",
    "print(abs(-2))"
   ]
  },
  {
   "cell_type": "code",
   "execution_count": 66,
   "metadata": {},
   "outputs": [
    {
     "name": "stdout",
     "output_type": "stream",
     "text": [
      "15.0\n",
      "10\n",
      "(-0.5, -3.0)\n",
      "(0.0, 3.0)\n",
      "-2.0\n",
      "-2.0\n"
     ]
    }
   ],
   "source": [
    "# fsum() math模块，对整个系列求和\n",
    "# sum() 系统内置求和\n",
    "\n",
    "print(math.fsum([1,2,3,4,5]))\n",
    "\n",
    "print(sum([1,2,3,4]))\n",
    "\n",
    "# math.modf() 将一个小数拆成整数部分和小数部分，两个结果都带有符号，组成元组\n",
    "# 小数在前，整数在后\n",
    "\n",
    "print(math.modf(-3.5))\n",
    "print(math.modf(3))\n",
    "\n",
    "# copysigh() 将第二个数的符号（正负号）传给第一个数\n",
    "print(math.copysign(2, -3))\n",
    "\n",
    "print(math.copysign(2, -0.0))"
   ]
  },
  {
   "cell_type": "code",
   "execution_count": 70,
   "metadata": {},
   "outputs": [],
   "source": [
    "import random"
   ]
  },
  {
   "cell_type": "code",
   "execution_count": 106,
   "metadata": {},
   "outputs": [
    {
     "name": "stdout",
     "output_type": "stream",
     "text": [
      "5\n",
      "None\n",
      "[6, 4, 34, 5, 1]\n",
      "4\n"
     ]
    }
   ],
   "source": [
    "# random() 获取0-1直接的随机小数 包含0 不包含1\n",
    "\n",
    "# random.randrange()  获取指定开始和结束直接的值，可以指定间隔\n",
    "\n",
    "# choice() 随机获取列表中的值\n",
    "print(random.choice([1,2,3,4,5]))\n",
    "\n",
    "# shuffle() 随机打乱序列\n",
    "l = [1,34,5,4,6]\n",
    "print(random.shuffle(l))\n",
    "print(l)\n",
    "\n",
    "print(random.randrange(1,10))"
   ]
  },
  {
   "cell_type": "code",
   "execution_count": 110,
   "metadata": {},
   "outputs": [
    {
     "name": "stdout",
     "output_type": "stream",
     "text": [
      "54\n"
     ]
    }
   ],
   "source": [
    "num = 654\n",
    "sw = num %100\n",
    "\n",
    "print(sw)"
   ]
  },
  {
   "cell_type": "code",
   "execution_count": 101,
   "metadata": {},
   "outputs": [
    {
     "name": "stdout",
     "output_type": "stream",
     "text": [
      "Help on method uniform in module random:\n",
      "\n",
      "uniform(a, b) method of random.Random instance\n",
      "    Get a random number in the range [a, b) or [a, b] depending on rounding.\n",
      "\n"
     ]
    }
   ],
   "source": [
    "help(random.uniform)"
   ]
  }
 ],
 "metadata": {
  "kernelspec": {
   "display_name": "Python 3",
   "language": "python",
   "name": "python3"
  },
  "language_info": {
   "codemirror_mode": {
    "name": "ipython",
    "version": 3
   },
   "file_extension": ".py",
   "mimetype": "text/x-python",
   "name": "python",
   "nbconvert_exporter": "python",
   "pygments_lexer": "ipython3",
   "version": "3.7.0"
  }
 },
 "nbformat": 4,
 "nbformat_minor": 2
}
