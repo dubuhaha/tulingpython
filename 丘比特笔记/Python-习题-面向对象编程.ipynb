{
 "cells": [
  {
   "cell_type": "markdown",
   "metadata": {},
   "source": [
    "### 定义一个学生类，有下面的属性\n",
    "- 1. 姓名\n",
    "- 2. 年龄\n",
    "- 3. 成绩（语文，数学，英语），每科成绩类型为整数 类方法：\n",
    "- 4. 获取学生的姓名：get_name() 返回类型：str\n",
    "- 5. 获取学生的年龄：get_age() 返回类型：int\n",
    "- 6. 返回3门科目中最高的分数，get_course() 返回类型：int"
   ]
  },
  {
   "cell_type": "code",
   "execution_count": 4,
   "metadata": {},
   "outputs": [
    {
     "name": "stdout",
     "output_type": "stream",
     "text": [
      "周周\n",
      "18\n",
      "100\n"
     ]
    }
   ],
   "source": [
    "class Student(object):\n",
    "    def __init__(self, name, age, scores):\n",
    "        self.name = name\n",
    "        self.age = age\n",
    "        self.scores = scores\n",
    "    def get_name(self):\n",
    "        return self.name\n",
    "    def get_age(self):\n",
    "        return self.age\n",
    "    \n",
    "    def get_course(self):\n",
    "        return max(self.scores)\n",
    "    \n",
    "zz = Student(\"周周\", 18,[88,99,100])\n",
    "print(zz.get_name())\n",
    "print(zz.get_age())\n",
    "print(zz.get_course())"
   ]
  },
  {
   "cell_type": "markdown",
   "metadata": {},
   "source": [
    "### 定义一个字典类：DictClass，完成如下功能\n",
    "- 1. 删除某个key del_dict(key)\n",
    "- 2. 判断某个键是否在字典里，如果在，返回键对应的值，不在则返回not found get_dict()\n",
    "- 3. 返回键组成的列表 返回类型：list get_key()\n",
    "- 4. 合并字典，并且返回合并后字典的values组成的列表，返回类型 list update_dict()"
   ]
  },
  {
   "cell_type": "code",
   "execution_count": 13,
   "metadata": {},
   "outputs": [
    {
     "name": "stdout",
     "output_type": "stream",
     "text": [
      "dict_values([1, 2, 3])\n"
     ]
    }
   ],
   "source": [
    "class DictClass():\n",
    "    \n",
    "    def __init__(self, dict):\n",
    "        self.dict = dict\n",
    "        \n",
    "    def del_dict(self, key):\n",
    "        # 判断key是否在字典里\n",
    "        if key not in self.dict.keys():\n",
    "            return \"key不在字典里\"\n",
    "        else:\n",
    "            self.dict.pop(key)\n",
    "            return \"删除成功\"\n",
    "\n",
    "    def get_dict(self, key):\n",
    "        if key not in self.dict.keys():\n",
    "            return \"not found\"\n",
    "        else:\n",
    "            return self.dict[key]\n",
    "    def get_key(self):\n",
    "        return self.dict.keys()\n",
    "    \n",
    "    def update_dict(self, dict2):\n",
    "        self.dict = dict(self.dict, **dict2)\n",
    "        return self.dict.values()\n",
    "        \n",
    "d = DictClass({'a':1,'b':2})\n",
    "\n",
    "print(d.update_dict({'c':3}))"
   ]
  },
  {
   "cell_type": "code",
   "execution_count": 14,
   "metadata": {},
   "outputs": [
    {
     "name": "stdout",
     "output_type": "stream",
     "text": [
      "Help on class dict in module builtins:\n",
      "\n",
      "class dict(object)\n",
      " |  dict() -> new empty dictionary\n",
      " |  dict(mapping) -> new dictionary initialized from a mapping object's\n",
      " |      (key, value) pairs\n",
      " |  dict(iterable) -> new dictionary initialized as if via:\n",
      " |      d = {}\n",
      " |      for k, v in iterable:\n",
      " |          d[k] = v\n",
      " |  dict(**kwargs) -> new dictionary initialized with the name=value pairs\n",
      " |      in the keyword argument list.  For example:  dict(one=1, two=2)\n",
      " |  \n",
      " |  Methods defined here:\n",
      " |  \n",
      " |  __contains__(self, key, /)\n",
      " |      True if the dictionary has the specified key, else False.\n",
      " |  \n",
      " |  __delitem__(self, key, /)\n",
      " |      Delete self[key].\n",
      " |  \n",
      " |  __eq__(self, value, /)\n",
      " |      Return self==value.\n",
      " |  \n",
      " |  __ge__(self, value, /)\n",
      " |      Return self>=value.\n",
      " |  \n",
      " |  __getattribute__(self, name, /)\n",
      " |      Return getattr(self, name).\n",
      " |  \n",
      " |  __getitem__(...)\n",
      " |      x.__getitem__(y) <==> x[y]\n",
      " |  \n",
      " |  __gt__(self, value, /)\n",
      " |      Return self>value.\n",
      " |  \n",
      " |  __init__(self, /, *args, **kwargs)\n",
      " |      Initialize self.  See help(type(self)) for accurate signature.\n",
      " |  \n",
      " |  __iter__(self, /)\n",
      " |      Implement iter(self).\n",
      " |  \n",
      " |  __le__(self, value, /)\n",
      " |      Return self<=value.\n",
      " |  \n",
      " |  __len__(self, /)\n",
      " |      Return len(self).\n",
      " |  \n",
      " |  __lt__(self, value, /)\n",
      " |      Return self<value.\n",
      " |  \n",
      " |  __ne__(self, value, /)\n",
      " |      Return self!=value.\n",
      " |  \n",
      " |  __repr__(self, /)\n",
      " |      Return repr(self).\n",
      " |  \n",
      " |  __setitem__(self, key, value, /)\n",
      " |      Set self[key] to value.\n",
      " |  \n",
      " |  __sizeof__(...)\n",
      " |      D.__sizeof__() -> size of D in memory, in bytes\n",
      " |  \n",
      " |  clear(...)\n",
      " |      D.clear() -> None.  Remove all items from D.\n",
      " |  \n",
      " |  copy(...)\n",
      " |      D.copy() -> a shallow copy of D\n",
      " |  \n",
      " |  get(self, key, default=None, /)\n",
      " |      Return the value for key if key is in the dictionary, else default.\n",
      " |  \n",
      " |  items(...)\n",
      " |      D.items() -> a set-like object providing a view on D's items\n",
      " |  \n",
      " |  keys(...)\n",
      " |      D.keys() -> a set-like object providing a view on D's keys\n",
      " |  \n",
      " |  pop(...)\n",
      " |      D.pop(k[,d]) -> v, remove specified key and return the corresponding value.\n",
      " |      If key is not found, d is returned if given, otherwise KeyError is raised\n",
      " |  \n",
      " |  popitem(...)\n",
      " |      D.popitem() -> (k, v), remove and return some (key, value) pair as a\n",
      " |      2-tuple; but raise KeyError if D is empty.\n",
      " |  \n",
      " |  setdefault(self, key, default=None, /)\n",
      " |      Insert key with a value of default if key is not in the dictionary.\n",
      " |      \n",
      " |      Return the value for key if key is in the dictionary, else default.\n",
      " |  \n",
      " |  update(...)\n",
      " |      D.update([E, ]**F) -> None.  Update D from dict/iterable E and F.\n",
      " |      If E is present and has a .keys() method, then does:  for k in E: D[k] = E[k]\n",
      " |      If E is present and lacks a .keys() method, then does:  for k, v in E: D[k] = v\n",
      " |      In either case, this is followed by: for k in F:  D[k] = F[k]\n",
      " |  \n",
      " |  values(...)\n",
      " |      D.values() -> an object providing a view on D's values\n",
      " |  \n",
      " |  ----------------------------------------------------------------------\n",
      " |  Class methods defined here:\n",
      " |  \n",
      " |  fromkeys(iterable, value=None, /) from builtins.type\n",
      " |      Create a new dictionary with keys from iterable and values set to value.\n",
      " |  \n",
      " |  ----------------------------------------------------------------------\n",
      " |  Static methods defined here:\n",
      " |  \n",
      " |  __new__(*args, **kwargs) from builtins.type\n",
      " |      Create and return a new object.  See help(type) for accurate signature.\n",
      " |  \n",
      " |  ----------------------------------------------------------------------\n",
      " |  Data and other attributes defined here:\n",
      " |  \n",
      " |  __hash__ = None\n",
      "\n"
     ]
    }
   ],
   "source": [
    "help(dict)"
   ]
  },
  {
   "cell_type": "code",
   "execution_count": 21,
   "metadata": {},
   "outputs": [
    {
     "name": "stdout",
     "output_type": "stream",
     "text": [
      "{'a': 1, 'b': 2}\n"
     ]
    }
   ],
   "source": [
    "dict1 = {'a':1}\n",
    "dict2 = {'b':2}\n",
    "dict1 = dict(dict1, **dict2)\n",
    "print(dict1)"
   ]
  },
  {
   "cell_type": "code",
   "execution_count": 22,
   "metadata": {},
   "outputs": [
    {
     "data": {
      "text/plain": [
       "{'one': 1, 'two': 2}"
      ]
     },
     "execution_count": 22,
     "metadata": {},
     "output_type": "execute_result"
    }
   ],
   "source": [
    "dict(one=1,two=2)"
   ]
  },
  {
   "cell_type": "code",
   "execution_count": 43,
   "metadata": {},
   "outputs": [
    {
     "name": "stdout",
     "output_type": "stream",
     "text": [
      "请添加数字或者字符串\n",
      "None\n",
      "[1, 2, 3, 4, 5]\n"
     ]
    }
   ],
   "source": [
    "class ListInfo(object):\n",
    "    \n",
    "    def __init__(self, list_val):\n",
    "        self.list = list_val\n",
    "        \n",
    "    def add_key(self, key_name):\n",
    "        # 添加的key必须是数字或者字符串\n",
    "        if isinstance(key_name, (str, int)):\n",
    "            self.list.append(key_name)\n",
    "            print(self.list)\n",
    "            return \"OK\"\n",
    "        else:\n",
    "            print(\"请添加数字或者字符串\")\n",
    "    \n",
    "    def get_key(self, index):\n",
    "        if index >= 0 and index < len(self.list):\n",
    "            return self.list[index]\n",
    "        else:\n",
    "            print(\"输入的值不对\")\n",
    "            \n",
    "    def update_list(self, new_list):\n",
    "        self.list.extend(new_list)\n",
    "        return self.list\n",
    "    \n",
    "    def del_key(self):\n",
    "        # 首先要判断我们列表里面还有元素\n",
    "        if len(self.list) > 0:\n",
    "            return self.list.pop()\n",
    "        else:\n",
    "            return \"列表是空的\"\n",
    "        \n",
    "        \n",
    "ls = [1,2,3,4,5]\n",
    "list_info = ListInfo(ls)\n",
    "\n",
    "print(list_info.add_key())\n",
    "\n",
    "#print(list_info.get_key(3))\n",
    "#print(list_info.update_list([6,7,8]))\n",
    "#print(list_info.del_key())\n",
    "print(ls)"
   ]
  },
  {
   "cell_type": "code",
   "execution_count": 56,
   "metadata": {},
   "outputs": [
    {
     "name": "stdout",
     "output_type": "stream",
     "text": [
      "{1, 2, 3}\n",
      "{1, 2, 3, 4, 5, 7, 8}\n",
      "{4, 5}\n"
     ]
    }
   ],
   "source": [
    "# 定义一个集合的操作类\n",
    "class SetInfo(object):\n",
    "    \n",
    "    def __init__(self, my_set):\n",
    "        self.sett = my_set\n",
    "        \n",
    "    def add_setinfo(self, keyname):\n",
    "        self.sett.add(keyname)\n",
    "        return self.sett\n",
    "    \n",
    "    def get_intersection(self, unioninfo):\n",
    "        if isinstance(unioninfo, set):\n",
    "            return self.sett & unioninfo\n",
    "        else:\n",
    "            return \"你传入的不是set\"\n",
    "    \n",
    "    def get_union(self, unioninfo):\n",
    "        if isinstance(unioninfo, set):\n",
    "            return self.sett | unioninfo\n",
    "        else:\n",
    "            return \"你传入的不是set\"\n",
    "    \n",
    "    def get_difference(self, unioninfo):\n",
    "        if isinstance(unioninfo, set):\n",
    "            return self.sett - unioninfo\n",
    "        else:\n",
    "            return \"你传入的不是set\"\n",
    "\n",
    "A = set([1,2,3,4,5])\n",
    "B = set((1,2,3,7,8))\n",
    "my_set = SetInfo(A)\n",
    "# print(my_set.add_setinfo(6))\n",
    "print(my_set.get_intersection(B))\n",
    "print (my_set.get_union(B))\n",
    "print(my_set.get_difference(B))"
   ]
  },
  {
   "cell_type": "code",
   "execution_count": null,
   "metadata": {},
   "outputs": [],
   "source": []
  }
 ],
 "metadata": {
  "kernelspec": {
   "display_name": "Python 3",
   "language": "python",
   "name": "python3"
  },
  "language_info": {
   "codemirror_mode": {
    "name": "ipython",
    "version": 3
   },
   "file_extension": ".py",
   "mimetype": "text/x-python",
   "name": "python",
   "nbconvert_exporter": "python",
   "pygments_lexer": "ipython3",
   "version": "3.7.0"
  }
 },
 "nbformat": 4,
 "nbformat_minor": 2
}
