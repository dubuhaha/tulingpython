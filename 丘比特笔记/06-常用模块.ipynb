{
 "cells": [
  {
   "cell_type": "markdown",
   "metadata": {},
   "source": [
    "# 常用模块\n",
    "- calendar\n",
    "- time\n",
    "- datetime\n",
    "- timeit\n",
    "- os\n",
    "- shutil\n",
    "- zip\n",
    "- math\n",
    "- string\n",
    "- 上述所有模块使用理论上都应该先导入，string是特例\n",
    "- calendar, time, datetime的区别就是中文字面区别"
   ]
  },
  {
   "cell_type": "markdown",
   "metadata": {},
   "source": [
    "# calendar\n",
    "- 跟日历相关的模块\n",
    "- "
   ]
  },
  {
   "cell_type": "code",
   "execution_count": 1,
   "metadata": {},
   "outputs": [],
   "source": [
    "# 使用需要先导入\n",
    "import calendar"
   ]
  },
  {
   "cell_type": "code",
   "execution_count": 4,
   "metadata": {},
   "outputs": [],
   "source": [
    "# calendar: 获取一年的日历字符串\n",
    "# 参数\n",
    "# w = 每个日期之间的间隔字符数\n",
    "# l = 每周所占用行数\n",
    "# c = 每个月之间的间隔字符数\n",
    "cal = calendar.calendar(2018)\n"
   ]
  },
  {
   "cell_type": "code",
   "execution_count": 7,
   "metadata": {},
   "outputs": [],
   "source": [
    "cal = calendar.calendar(2018, l =0, c=5)\n",
    "#print(cal)"
   ]
  },
  {
   "cell_type": "code",
   "execution_count": 10,
   "metadata": {},
   "outputs": [
    {
     "data": {
      "text/plain": [
       "True"
      ]
     },
     "execution_count": 10,
     "metadata": {},
     "output_type": "execute_result"
    }
   ],
   "source": [
    "# isleap: 判断某一年是否闰年\n",
    "calendar.isleap(2012)"
   ]
  },
  {
   "cell_type": "code",
   "execution_count": 14,
   "metadata": {},
   "outputs": [
    {
     "data": {
      "text/plain": [
       "-1"
      ]
     },
     "execution_count": 14,
     "metadata": {},
     "output_type": "execute_result"
    }
   ],
   "source": [
    "# leapdays: 获取指定年份之间的闰年个数\n",
    "calendar.leapdays(2021, 2018)"
   ]
  },
  {
   "cell_type": "code",
   "execution_count": 15,
   "metadata": {},
   "outputs": [
    {
     "name": "stdout",
     "output_type": "stream",
     "text": [
      "Help on function leapdays in module calendar:\n",
      "\n",
      "leapdays(y1, y2)\n",
      "    Return number of leap years in range [y1, y2).\n",
      "    Assume y1 <= y2.\n",
      "\n"
     ]
    }
   ],
   "source": [
    "help(calendar.leapdays)"
   ]
  },
  {
   "cell_type": "code",
   "execution_count": 18,
   "metadata": {},
   "outputs": [
    {
     "name": "stdout",
     "output_type": "stream",
     "text": [
      "   December 2018\n",
      "Mo Tu We Th Fr Sa Su\n",
      "                1  2\n",
      " 3  4  5  6  7  8  9\n",
      "10 11 12 13 14 15 16\n",
      "17 18 19 20 21 22 23\n",
      "24 25 26 27 28 29 30\n",
      "31\n",
      "\n"
     ]
    }
   ],
   "source": [
    "# month() 获取某个月的日历字符串\n",
    "# 格式: calendar.month(year, month)\n",
    "# 返回值: 月日历的字符串\n",
    "print(calendar.month(2018, 12))"
   ]
  },
  {
   "cell_type": "code",
   "execution_count": 21,
   "metadata": {},
   "outputs": [
    {
     "name": "stdout",
     "output_type": "stream",
     "text": [
      "(5, 31)\n"
     ]
    }
   ],
   "source": [
    "# monthrange() 获取一个月的周几开即和天数\n",
    "# 格式：calendar.monthrange(year, month)\n",
    "# 返回值：元组(周几开始，总天数)\n",
    "# 注意：周默认 0 - 6 表示周一到周日\n",
    "print(calendar.monthrange(2018, 12))"
   ]
  },
  {
   "cell_type": "code",
   "execution_count": 22,
   "metadata": {},
   "outputs": [
    {
     "name": "stdout",
     "output_type": "stream",
     "text": [
      "[[0, 0, 0, 0, 0, 1, 2], [3, 4, 5, 6, 7, 8, 9], [10, 11, 12, 13, 14, 15, 16], [17, 18, 19, 20, 21, 22, 23], [24, 25, 26, 27, 28, 29, 30], [31, 0, 0, 0, 0, 0, 0]]\n"
     ]
    }
   ],
   "source": [
    "# monthcalendar() 返回一个月每天的矩阵列表\n",
    "# 格式：calendar.monthcalendar(year, month)\n",
    "# 返回值：二级列表\n",
    "# 注意：矩阵中没有天数用0表示\n",
    "m = calendar.monthcalendar(2018, 12)\n",
    "print(m)"
   ]
  },
  {
   "cell_type": "code",
   "execution_count": 25,
   "metadata": {},
   "outputs": [
    {
     "name": "stdout",
     "output_type": "stream",
     "text": [
      "Help on method pryear in module calendar:\n",
      "\n",
      "pryear(theyear, w=0, l=0, c=6, m=3) method of calendar.TextCalendar instance\n",
      "    Print a year's calendar.\n",
      "\n"
     ]
    }
   ],
   "source": [
    "# prcal: print calendar 直接打印日历\n",
    "# calendar.prcal(2018)\n",
    "help(calendar.prcal)"
   ]
  },
  {
   "cell_type": "code",
   "execution_count": 27,
   "metadata": {},
   "outputs": [
    {
     "name": "stdout",
     "output_type": "stream",
     "text": [
      "   December 2018\n",
      "Mo Tu We Th Fr Sa Su\n",
      "                1  2\n",
      " 3  4  5  6  7  8  9\n",
      "10 11 12 13 14 15 16\n",
      "17 18 19 20 21 22 23\n",
      "24 25 26 27 28 29 30\n",
      "31\n"
     ]
    }
   ],
   "source": [
    "# prmonth() 直接打印整个月的日历\n",
    "# 格式：calendar.prmonth(year, month)\n",
    "# 返回值：无\n",
    "calendar.prmonth(2018, 12)"
   ]
  },
  {
   "cell_type": "code",
   "execution_count": 30,
   "metadata": {},
   "outputs": [
    {
     "data": {
      "text/plain": [
       "2"
      ]
     },
     "execution_count": 30,
     "metadata": {},
     "output_type": "execute_result"
    }
   ],
   "source": [
    "# weekday() 获取周几\n",
    "# 格式：calendar.weekday(year, month, day)\n",
    "# 返回值：周几对应的数字\n",
    "calendar.weekday(2018, 12, 12)"
   ]
  },
  {
   "cell_type": "markdown",
   "metadata": {},
   "source": [
    "# time模块\n",
    "### 时间戳\n",
    "    - 一个时间表示，根据不用语音，可以是整数或者浮点数\n",
    "    - 是从1970年1月1日0时0分0秒到现在经历的秒数\n",
    "    - 如果表示时间是1970年以前或者太遥远的未来，可能出现异常\n",
    "    - 32位操作系统能能够支持到2038年\n",
    "    \n",
    "### UTC时间\n",
    "    - UTC又称为世界协调时间，以英国的格里尼治天文台所在的地区的时间作为参考，也叫做时间标准时间\n",
    "    \n",
    "### 夏令时\n",
    "    \n",
    "### 时间元组\n",
    "    - 一个包含时间内容的普通元组\n",
    "    \n",
    "    \n",
    "        索引    内容     属性              值\n",
    "\n",
    "        0      年\t    tm_year\t         2017\n",
    "        1      月\t    tm_mon\t         1到12\n",
    "        2      日\t    tm_mday\t         1到31\n",
    "        3      时\t    tm_hour\t         0到23\n",
    "        4      分\t    tm_min\t         0到59\n",
    "        5      秒\t    tm_sec\t         0到61（60表示润秒 61保留值）\n",
    "        6      周几\t   tm_wday\t        0到6(0是周一)\n",
    "        7      第几天\t  tm_yday\t        1到366,一年中的第几天\n",
    "        8      夏令时\t  tm_isdst\t        是否为夏令时，值为1时是夏令时，值为0时不是夏令时，默认为-1\n",
    "    "
   ]
  },
  {
   "cell_type": "code",
   "execution_count": 46,
   "metadata": {},
   "outputs": [],
   "source": [
    "# 需要导入\n",
    "import time"
   ]
  },
  {
   "cell_type": "code",
   "execution_count": 35,
   "metadata": {},
   "outputs": [
    {
     "name": "stdout",
     "output_type": "stream",
     "text": [
      "0\n"
     ]
    }
   ],
   "source": [
    "# 时间模块的属性\n",
    "# timezone: 当前时区和UTC时间相差的秒数，在没有夏令时的情况下的间隔,东八区是 -28800\n",
    "# altzone: 获取当前时区与UTC时间相差的秒数，在有夏令时的情况下\n",
    "# daylight 测当前是否是夏令时时间状态，0 表示不是\n",
    "\n",
    "print(time.daylight)"
   ]
  },
  {
   "cell_type": "code",
   "execution_count": 37,
   "metadata": {},
   "outputs": [
    {
     "data": {
      "text/plain": [
       "1544597335.1312232"
      ]
     },
     "execution_count": 37,
     "metadata": {},
     "output_type": "execute_result"
    }
   ],
   "source": [
    "# 得到当前时间戳\n",
    "time.time()"
   ]
  },
  {
   "cell_type": "code",
   "execution_count": 50,
   "metadata": {},
   "outputs": [
    {
     "name": "stdout",
     "output_type": "stream",
     "text": [
      "<class 'time.struct_time'>\n",
      "12\n"
     ]
    }
   ],
   "source": [
    "# localtime，得到当前时间的时间结构\n",
    "# 可以通过点号操作符得到相应的属性元素的内容\n",
    "t = time.localtime()\n",
    "print(type(t))\n",
    "print(t.tm_mday)"
   ]
  },
  {
   "cell_type": "code",
   "execution_count": 54,
   "metadata": {},
   "outputs": [
    {
     "name": "stdout",
     "output_type": "stream",
     "text": [
      "<class 'str'>\n",
      "Wed Dec 12 15:03:33 2018\n"
     ]
    }
   ],
   "source": [
    "# asctime() 返回元组的正常字符串化之后的时间格式\n",
    "# 格式：time.asctime (时间元组)\n",
    "# 返回值：字符 Wed Dec 12 14:56:24 2018\n",
    "t = time.localtime()\n",
    "\n",
    "tt = time.asctime(t)\n",
    "print(type(tt))\n",
    "print(tt)"
   ]
  },
  {
   "cell_type": "code",
   "execution_count": 46,
   "metadata": {},
   "outputs": [
    {
     "name": "stdout",
     "output_type": "stream",
     "text": [
      "Wed Dec 12 14:58:46 2018\n"
     ]
    }
   ],
   "source": [
    "# ctimeL: 获取字符串化的当前时间\n",
    "t = time.ctime()\n",
    "print(t)"
   ]
  },
  {
   "cell_type": "code",
   "execution_count": 48,
   "metadata": {},
   "outputs": [
    {
     "name": "stdout",
     "output_type": "stream",
     "text": [
      "<class 'float'>\n",
      "1544598010.0\n"
     ]
    }
   ],
   "source": [
    "# mktime() 使用时间元组获取对应的时间戳\n",
    "# 格式： time.mktime (时间元组)\n",
    "# 返回值：浮点数时间戳\n",
    "\n",
    "lt = time.localtime()\n",
    "ts = time.mktime(lt)\n",
    "print(type(ts))\n",
    "print(ts)"
   ]
  },
  {
   "cell_type": "code",
   "execution_count": 55,
   "metadata": {},
   "outputs": [],
   "source": [
    "# clock: 获取cpu时间， 3.0-3.3版本直接使用，3.3 后放弃了，使用time.perf_counter() 代提"
   ]
  },
  {
   "cell_type": "code",
   "execution_count": 56,
   "metadata": {},
   "outputs": [
    {
     "name": "stdout",
     "output_type": "stream",
     "text": [
      "0\n",
      "1\n",
      "2\n",
      "3\n",
      "4\n",
      "5\n",
      "6\n",
      "7\n",
      "8\n",
      "9\n"
     ]
    }
   ],
   "source": [
    "# sleep: 使程序进入睡眠，n秒后继续\n",
    "\n",
    "for i in range(10):\n",
    "    print(i)\n",
    "    time.sleep(1)"
   ]
  },
  {
   "cell_type": "code",
   "execution_count": 67,
   "metadata": {},
   "outputs": [
    {
     "name": "stdout",
     "output_type": "stream",
     "text": [
      "20181212 15:5756\n"
     ]
    }
   ],
   "source": [
    "# strftime: 将时间元组转化为自定义的字符串格式\n",
    "\n",
    "'''\n",
    "python中时间日期格式化符号：\n",
    "\n",
    "%y 两位数的年份表示（00-99）\n",
    "%Y 四位数的年份表示（000-9999）\n",
    "%m 月份（01-12）\n",
    "%d 月内中的一天（0-31）\n",
    "%H 24小时制小时数（0-23）\n",
    "%I 12小时制小时数（01-12）\n",
    "%M 分钟数（00=59）\n",
    "%S 秒（00-59）\n",
    "%a 本地简化星期名称\n",
    "%A 本地完整星期名称\n",
    "%b 本地简化的月份名称\n",
    "%B 本地完整的月份名称\n",
    "%c 本地相应的日期表示和时间表示\n",
    "%j 年内的一天（001-366）\n",
    "%p 本地A.M.或P.M.的等价符\n",
    "%U 一年中的星期数（00-53）星期天为星期的开始\n",
    "%w 星期（0-6），星期天为星期的开始\n",
    "%W 一年中的星期数（00-53）星期一为星期的开始\n",
    "%x 本地相应的日期表示\n",
    "%X 本地相应的时间表示\n",
    "%Z 当前时区的名称\n",
    "%% %号本身\n",
    "'''\n",
    "# 把时间表示成 2018年12月12日 15:37\n",
    "t = time.localtime()\n",
    "ft = time.strftime(\"%Y%m%d %H:%M%S\", t)\n",
    "print(ft)"
   ]
  },
  {
   "cell_type": "markdown",
   "metadata": {},
   "source": [
    "# datetime 模块\n",
    "- datetime提供日期和时间的运算和表示"
   ]
  },
  {
   "cell_type": "code",
   "execution_count": 68,
   "metadata": {},
   "outputs": [],
   "source": [
    "import datetime"
   ]
  },
  {
   "cell_type": "code",
   "execution_count": 70,
   "metadata": {},
   "outputs": [
    {
     "name": "stdout",
     "output_type": "stream",
     "text": [
      "2018-03-26\n",
      "26\n",
      "2018\n",
      "3\n"
     ]
    }
   ],
   "source": [
    "# datetime 常见属性\n",
    "# datetime.date: 一个理想和的日期，提供year， month, day属性\n",
    "dt = datetime.date(2018,3,26)\n",
    "print(dt)\n",
    "print(dt.day)\n",
    "print(dt.year)\n",
    "print(dt.month)\n",
    "\n",
    "# datetime.time: 提供一个理想和的时间， 提供hour, minute, sec, microsec等内容\n",
    "# datetime.datetime: 提供日期跟时间的组合\n",
    "# datetiem.timedelta: 提供一个时间差，时间长度"
   ]
  },
  {
   "cell_type": "code",
   "execution_count": 75,
   "metadata": {},
   "outputs": [
    {
     "name": "stdout",
     "output_type": "stream",
     "text": [
      "2018-12-12 16:07:08.638723\n",
      "2018-12-12 16:07:08.639223\n",
      "2018-12-12 16:07:08.639723\n"
     ]
    }
   ],
   "source": [
    "# datetime.datetime\n",
    "from datetime import datetime\n",
    "# 常用类方法：\n",
    "# today:\n",
    "# now\n",
    "# utcnow\n",
    "# fromtimestamp: 从时间戳中返回本地时间\n",
    "dt = datetime(2018, 12,12)\n",
    "print(dt.today())\n",
    "print(dt.now())\n",
    "\n",
    "print(dt.fromtimestamp(time.time()))"
   ]
  },
  {
   "cell_type": "code",
   "execution_count": 79,
   "metadata": {},
   "outputs": [
    {
     "name": "stdout",
     "output_type": "stream",
     "text": [
      "2018-12-12 16:11:06\n",
      "2018-12-12 17:11:06\n"
     ]
    }
   ],
   "source": [
    "# datetime.timedelta\n",
    "# 表示一个时间间隔\n",
    "\n",
    "from datetime import datetime, timedelta\n",
    "\n",
    "t1 = datetime.now()\n",
    "print(t1.strftime(\"%Y-%m-%d %H:%M:%S\"))\n",
    "#td表示1小时的时间长度\n",
    "td = timedelta(hours=1)\n",
    "# 当前时间加上时间间隔后，把得到的一个小时后的时间格式化输出\n",
    "print((t1+td).strftime(\"%Y-%m-%d %H:%M:%S\"))"
   ]
  },
  {
   "cell_type": "code",
   "execution_count": 81,
   "metadata": {},
   "outputs": [
    {
     "name": "stdout",
     "output_type": "stream",
     "text": [
      "2.1000001430511475\n"
     ]
    }
   ],
   "source": [
    "# timeit-时间测量工具\n",
    "\n",
    "# 测试程序运行时间间隔实验\n",
    "def p():\n",
    "    time.sleep(2.1)\n",
    "    \n",
    "t1 = time.time()\n",
    "p()\n",
    "print(time.time() - t1)"
   ]
  },
  {
   "cell_type": "code",
   "execution_count": 85,
   "metadata": {},
   "outputs": [
    {
     "name": "stdout",
     "output_type": "stream",
     "text": [
      "3.0353687810020347\n",
      "5.823436713999399\n"
     ]
    }
   ],
   "source": [
    "import timeit\n",
    "# 生成列表两种方法\n",
    "# 如果单纯比较生成一个列表的时间，可能很难实现\n",
    "c = '''\n",
    "sum = []\n",
    "for i in range(1000):\n",
    "    sum.append(i)\n",
    "'''\n",
    "\n",
    "# 利用timeit调用代码，执行100000次，查看运行时间\n",
    "t1 = timeit.timeit(stmt=\"[i for i in range(1000)]\", number = 100000)\n",
    "# c测试代码c执行100000次运行结果\n",
    "t2 = timeit.timeit(stmt=c, number=100000)\n",
    "print(t1)\n",
    "print(t2)"
   ]
  },
  {
   "cell_type": "code",
   "execution_count": 88,
   "metadata": {},
   "outputs": [
    {
     "name": "stdout",
     "output_type": "stream",
     "text": [
      "Repeat for 0\n",
      "Repeat for 1\n",
      "Repeat for 2\n",
      "Repeat for 0\n",
      "Repeat for 1\n",
      "Repeat for 2\n",
      "Repeat for 0\n",
      "Repeat for 1\n",
      "Repeat for 2\n",
      "Repeat for 0\n",
      "Repeat for 1\n",
      "Repeat for 2\n",
      "Repeat for 0\n",
      "Repeat for 1\n",
      "Repeat for 2\n",
      "Repeat for 0\n",
      "Repeat for 1\n",
      "Repeat for 2\n",
      "Repeat for 0\n",
      "Repeat for 1\n",
      "Repeat for 2\n",
      "Repeat for 0\n",
      "Repeat for 1\n",
      "Repeat for 2\n",
      "Repeat for 0\n",
      "Repeat for 1\n",
      "Repeat for 2\n",
      "Repeat for 0\n",
      "Repeat for 1\n",
      "Repeat for 2\n",
      "0.0008328420008183457\n"
     ]
    }
   ],
   "source": [
    "# timeit 可以执行一个函数，来测量一个函数的执行时间\n",
    "def doIt():\n",
    "    num = 3\n",
    "    for i in range(num):\n",
    "        print(\"Repeat for {}\".format(i))\n",
    "        \n",
    "# 执行函数，重复10次\n",
    "t = timeit.timeit(stmt=doIt, number=10)\n",
    "print(t)"
   ]
  },
  {
   "cell_type": "code",
   "execution_count": 99,
   "metadata": {},
   "outputs": [
    {
     "name": "stdout",
     "output_type": "stream",
     "text": [
      "Repeat for 0\n",
      "Repeat for 1\n",
      "Repeat for 2\n",
      "Repeat for 0\n",
      "Repeat for 1\n",
      "Repeat for 2\n",
      "Repeat for 0\n",
      "Repeat for 1\n",
      "Repeat for 2\n",
      "Repeat for 0\n",
      "Repeat for 1\n",
      "Repeat for 2\n",
      "Repeat for 0\n",
      "Repeat for 1\n",
      "Repeat for 2\n",
      "Repeat for 0\n",
      "Repeat for 1\n",
      "Repeat for 2\n",
      "Repeat for 0\n",
      "Repeat for 1\n",
      "Repeat for 2\n",
      "Repeat for 0\n",
      "Repeat for 1\n",
      "Repeat for 2\n",
      "Repeat for 0\n",
      "Repeat for 1\n",
      "Repeat for 2\n",
      "Repeat for 0\n",
      "Repeat for 1\n",
      "Repeat for 2\n",
      "0.0017173619999084622\n"
     ]
    }
   ],
   "source": [
    "s = '''\n",
    "def doIt(num):\n",
    "    for i in range(num):\n",
    "        print(\"Repeat for {}\".format(i))\n",
    "        \n",
    "'''\n",
    "# 执行doIt(num)\n",
    "# setup负责把环境变量准备好\n",
    "# 实际相当于给timeit创造了一个小环境\n",
    "# \n",
    "'''\n",
    "def doIt(num):\n",
    "    ....\n",
    "num = 3\n",
    "doIt(num)\n",
    "'''\n",
    "t = timeit.timeit(\"doIt(num)\", setup=s+\"num=3\", number=10)\n",
    "print(t)"
   ]
  },
  {
   "cell_type": "markdown",
   "metadata": {},
   "source": [
    "# datetime.datetime 模块\n",
    "- 提供比较好用的数据而已\n",
    "- 类定义\n",
    "- 类方法\n"
   ]
  },
  {
   "cell_type": "code",
   "execution_count": 6,
   "metadata": {},
   "outputs": [
    {
     "name": "stdout",
     "output_type": "stream",
     "text": [
      "2018-12-12 16:40:40.940723\n"
     ]
    }
   ],
   "source": [
    "import datetime\n",
    "\n",
    "print(datetime.datetime.now())"
   ]
  },
  {
   "cell_type": "markdown",
   "metadata": {},
   "source": [
    "# OS- 操作系统相关\n",
    "- 跟操作系统相关，主要是文件操作\n",
    "- 于操作系统相关的操作，主要包含再三个模块里\n",
    "    - os, 操作系统目录相关\n",
    "    - os.path, 系统路径相关操作\n",
    "    - shutil, 高级文件操作，目录树的操作，文件复制，删除，移动\n",
    "- 路径：\n",
    "    - 绝对路径：总是从跟目录上开始\n",
    "    - 相对路径：基本以当前环境未开始的一个相对的地方"
   ]
  },
  {
   "cell_type": "markdown",
   "metadata": {},
   "source": [
    "# OS 模块"
   ]
  },
  {
   "cell_type": "code",
   "execution_count": 7,
   "metadata": {},
   "outputs": [],
   "source": [
    "import os"
   ]
  },
  {
   "cell_type": "code",
   "execution_count": 16,
   "metadata": {},
   "outputs": [
    {
     "name": "stdout",
     "output_type": "stream",
     "text": [
      "C:\\Users\\liujinghui\n"
     ]
    }
   ],
   "source": [
    "# getcwd() 获取当前的工作目录\n",
    "# 格式：os.getcwd()\n",
    "# 返回值：当前工作目录的字符串\n",
    "# 当前工作目录就是程序在进行文件相关操作，默认查找文件的目录\n",
    "\n",
    "mydir = os.getcwd()\n",
    "print(mydir)"
   ]
  },
  {
   "cell_type": "code",
   "execution_count": 15,
   "metadata": {},
   "outputs": [
    {
     "name": "stdout",
     "output_type": "stream",
     "text": [
      "C:\\Users\\liujinghui\n"
     ]
    }
   ],
   "source": [
    "# chdir() 改变当前的工作目录\n",
    "# chage directory\n",
    "# 格式：os.chdir(路径)\n",
    "# 返回值：无\n",
    "\n",
    "os.chdir('C:\\\\Users\\\\liujinghui')\n",
    "mydir = os.getcwd()\n",
    "print(mydir)"
   ]
  },
  {
   "cell_type": "code",
   "execution_count": 17,
   "metadata": {},
   "outputs": [
    {
     "name": "stdout",
     "output_type": "stream",
     "text": [
      "['.3T', '.anaconda', '.android', '.AndroidStudio2.2', '.AndroidStudio2.3', '.bash_history', '.BigNox', '.cache', '.conda', '.condarc', '.freemind', '.gitconfig', '.gradle', '.idlerc', '.IntelliJIdea2017.2', '.ipynb_checkpoints', '.ipython', '.jenkins', '.jupyter', '.m2', '.matplotlib', '.node-gyp', '.node_repl_history', '.npmrc', '.oracle_jre_usage', '.PyCharm2017.3', '.pytest_cache', '.swt', '.VirtualBox', '.vscode', '06-常用模块.ipynb', '150200.jpg', 'AppData', 'Application Data', 'bugreport.zip', 'Contacts', 'Cookies', 'Desktop', 'Desktop.cer', 'Desktop.crt', 'Documents', 'Downloads', 'Favorites', 'Foxit Reader SDK ActiveX.ini', 'go', 'inittk.ini', 'inst.ini', 'Links', 'Local Settings', 'Music', 'My Documents', 'NetHood', 'Nox_share', 'NTUSER.DAT', 'ntuser.dat.LOG1', 'ntuser.dat.LOG2', 'NTUSER.DAT{016888bd-6c6f-11de-8d1d-001e0bcde3ec}.TM.blf', 'NTUSER.DAT{016888bd-6c6f-11de-8d1d-001e0bcde3ec}.TMContainer00000000000000000001.regtrans-ms', 'NTUSER.DAT{016888bd-6c6f-11de-8d1d-001e0bcde3ec}.TMContainer00000000000000000002.regtrans-ms', 'ntuser.ini', 'ntuser.pol', 'nuuid.ini', 'Pictures', 'PrintHood', 'PycharmProjects', 'Recent', 'Saved Games', 'Searches', 'SendTo', 'Templates', 'Videos', 'VirtualBox VMs', 'vmlogs', 'wc', 'workspace', '「开始」菜单', '个人简历-刘静辉.doc']\n"
     ]
    }
   ],
   "source": [
    "# listdir() 获取一个目录中所有字目录和文件的名称列表\n",
    "# 格式：os.listdir(路径)\n",
    "# 返回值：所有子目录和文件名称的列表\n",
    "\n",
    "ld = os.listdir()\n",
    "print(ld)"
   ]
  },
  {
   "cell_type": "code",
   "execution_count": 24,
   "metadata": {},
   "outputs": [
    {
     "name": "stdout",
     "output_type": "stream",
     "text": [
      "None\n"
     ]
    }
   ],
   "source": [
    "# makedirs() 递归创建文件夹\n",
    "# 格式：os.makedirs(递归路径)\n",
    "# 返回值：无\n",
    "# 递归路径：多个文件夹层层包含的路径就是递归路径 例如 a/b/c...\n",
    "\n",
    "rst = os.makedirs(\"dana\")\n",
    "print(rst)"
   ]
  },
  {
   "cell_type": "code",
   "execution_count": 25,
   "metadata": {},
   "outputs": [],
   "source": [
    "os.removedirs(\"dana\")"
   ]
  },
  {
   "cell_type": "code",
   "execution_count": 27,
   "metadata": {},
   "outputs": [
    {
     "name": "stdout",
     "output_type": "stream",
     "text": [
      "0\n",
      "0\n"
     ]
    }
   ],
   "source": [
    "# system() 运行系统shell命令\n",
    "# 格式：os.system(系统命令)\n",
    "# 返回值： 打开一个shell或者终端页面\n",
    "# 一般推荐使用subprocess代替\n",
    "\n",
    "# ls 是列表当前文件和文件夹\n",
    "rst = os.system(\"ls\")\n",
    "print(rst)\n",
    "\n",
    "# 在当前目录下创建一个dana.haha的文件\n",
    "rst = os.system(\"touch dana.haha\")\n",
    "print(rst)"
   ]
  },
  {
   "cell_type": "code",
   "execution_count": 29,
   "metadata": {},
   "outputs": [],
   "source": [
    "# getenv() 获取指定系统环境变量值\n",
    "# 格式：os.getenv(\"环境变量\")\n",
    "# 返回值：指定环境变量名对应的值\n",
    "# 相应的还有putenv()\n",
    "\n",
    "rst = os.getenv(\"PATH\")\n",
    "#print(rst)"
   ]
  },
  {
   "cell_type": "code",
   "execution_count": null,
   "metadata": {},
   "outputs": [],
   "source": [
    "# exit() 退出当前程序\n",
    "# 格式：exit()\n",
    "# 返回值：无"
   ]
  },
  {
   "cell_type": "markdown",
   "metadata": {},
   "source": [
    "# 值部分\n",
    "- os.curdir: current dir 当前目录\n",
    "- os.pardir: parent dir 父目录\n",
    "- os.sep: 当前系统的路径分隔符\n",
    "    - windows: \"\\\"\n",
    "    -linux: \"/\"\n",
    "- os.linesep: 当前系统的换行符号\n",
    "    - windows: \"\\r\\n\"\n",
    "    - unix,linux,macos: \"\\n\"\n",
    "- os.name: 当前系统名称\n",
    "    - windows: nt\n",
    "    - mac, unicx, linux: posix"
   ]
  },
  {
   "cell_type": "code",
   "execution_count": 30,
   "metadata": {},
   "outputs": [
    {
     "name": "stdout",
     "output_type": "stream",
     "text": [
      "..\n",
      ".\n"
     ]
    }
   ],
   "source": [
    "print(os.pardir)\n",
    "print(os.curdir)"
   ]
  },
  {
   "cell_type": "code",
   "execution_count": 33,
   "metadata": {},
   "outputs": [
    {
     "name": "stdout",
     "output_type": "stream",
     "text": [
      "\\\n",
      "\r\n",
      "\n",
      "C:\\users\\liujinghui\\dana\n"
     ]
    }
   ],
   "source": [
    "# 在路径相关的操作中，不用手动拼写地址，因为手动拼写的路径可能不具有移植性\n",
    "print(os.sep)\n",
    "print(os.linesep)\n",
    "path = \"C:\\\\users\\\\liujinghui\" + \"\\\\\" + \"dana\"\n",
    "print(path)"
   ]
  },
  {
   "cell_type": "code",
   "execution_count": 34,
   "metadata": {},
   "outputs": [
    {
     "name": "stdout",
     "output_type": "stream",
     "text": [
      "nt\n"
     ]
    }
   ],
   "source": [
    "# 操作系统名称\n",
    "print(os.name)"
   ]
  },
  {
   "cell_type": "markdown",
   "metadata": {},
   "source": [
    "# os.path 模块，跟路径相关的模块"
   ]
  },
  {
   "cell_type": "code",
   "execution_count": 3,
   "metadata": {},
   "outputs": [],
   "source": [
    "import os.path as op"
   ]
  },
  {
   "cell_type": "code",
   "execution_count": 36,
   "metadata": {},
   "outputs": [
    {
     "name": "stdout",
     "output_type": "stream",
     "text": [
      "C:\\Users\\liujinghui\n"
     ]
    }
   ],
   "source": [
    "# abspath() 将路径转换为绝对路径\n",
    "# absolute 绝对\n",
    "# 格式：os.path.abspath(\"路径\")\n",
    "# 返回值：路径的绝对路径形式\n",
    "\n",
    "# . 点好，代表当前目录\n",
    "# .. 双点，代表父目录\n",
    "absp = op.abspath(\".\")\n",
    "print(absp)"
   ]
  },
  {
   "cell_type": "code",
   "execution_count": 37,
   "metadata": {},
   "outputs": [
    {
     "name": "stdout",
     "output_type": "stream",
     "text": [
      "liujinghui\n"
     ]
    }
   ],
   "source": [
    "# basename() 获取路径中的文件名部分\n",
    "# 格式：os.path.basename(\"路径\")\n",
    "\n",
    "bn = op.basename(\"C:\\\\Users\\\\liujinghui\")\n",
    "print(bn)"
   ]
  },
  {
   "cell_type": "code",
   "execution_count": 42,
   "metadata": {},
   "outputs": [
    {
     "name": "stdout",
     "output_type": "stream",
     "text": [
      "C:\\Users\\liujinghui\\workspace\n"
     ]
    }
   ],
   "source": [
    "# join() 将多个路径拼合成一个路径\n",
    "# 格式：os.path.join(路径1，路径2...)\n",
    "# 返回值：组合之后的新路径字符串\n",
    "\n",
    "bd = \"C:\\\\Users\\\\liujinghui\"\n",
    "fn = \"workspace\"\n",
    "\n",
    "p = op.join(bd, fn)\n",
    "print(p)"
   ]
  },
  {
   "cell_type": "code",
   "execution_count": 43,
   "metadata": {},
   "outputs": [
    {
     "name": "stdout",
     "output_type": "stream",
     "text": [
      "('C:\\\\Users\\\\liujinghui', 'workspace')\n",
      "C:\\Users\\liujinghui workspace\n"
     ]
    }
   ],
   "source": [
    "# split() 将路径切割为文件夹部分和当前文件部分\n",
    "# 格式：os.path.split(路径)\n",
    "# 返回值：路径和文件名组成的元组\n",
    "\n",
    "t = op.split(\"C:\\\\Users\\\\liujinghui\\\\workspace\")\n",
    "print(t)\n",
    "\n",
    "d,p = op.split(\"C:\\\\Users\\\\liujinghui\\\\workspace\")\n",
    "print(d, p)"
   ]
  },
  {
   "cell_type": "code",
   "execution_count": 44,
   "metadata": {},
   "outputs": [
    {
     "data": {
      "text/plain": [
       "True"
      ]
     },
     "execution_count": 44,
     "metadata": {},
     "output_type": "execute_result"
    }
   ],
   "source": [
    "# isdir() 检测是否是目录\n",
    "# 格式：os.path.isdir(路径)\n",
    "# 返回值：布尔值\n",
    "\n",
    "os.path.isdir(\"C:\\\\Users\\\\liujinghui\\\\workspace\")"
   ]
  },
  {
   "cell_type": "code",
   "execution_count": 4,
   "metadata": {},
   "outputs": [
    {
     "data": {
      "text/plain": [
       "False"
      ]
     },
     "execution_count": 4,
     "metadata": {},
     "output_type": "execute_result"
    }
   ],
   "source": [
    "# exists() 检测文件或者目录是否存在\n",
    "# 格式：os.path.exists\n",
    "e = op.exists(\"C:\\\\Users\\\\liujinghui\\\\haha\")\n",
    "e"
   ]
  },
  {
   "cell_type": "markdown",
   "metadata": {},
   "source": [
    "# shutil 模块"
   ]
  },
  {
   "cell_type": "code",
   "execution_count": 7,
   "metadata": {},
   "outputs": [],
   "source": [
    "import shutil"
   ]
  },
  {
   "cell_type": "code",
   "execution_count": 8,
   "metadata": {},
   "outputs": [
    {
     "name": "stdout",
     "output_type": "stream",
     "text": [
      "C:\\Users\\liujinghui\\11.docx\n"
     ]
    }
   ],
   "source": [
    "# copy() 复制文件\n",
    "# 格式：shutil.copy(来源路径，目标路径)\n",
    "# 返回值：返回目标路径\n",
    "# 拷贝的同时，可以给文件重命名\n",
    "\n",
    "rst = shutil.copy(\"C:\\\\Users\\\\liujinghui\\\\Desktop\\\\11.docx\", \"C:\\\\Users\\\\liujinghui\\\\11.docx\")\n",
    "print(rst)"
   ]
  },
  {
   "cell_type": "code",
   "execution_count": null,
   "metadata": {},
   "outputs": [],
   "source": [
    "# copy2() 复制文件，保留元数据（文件信息）\n",
    "# 格式：shutil.copy2(来源路径，目标路径)\n",
    "# 返回值：返回目标路径\n",
    "# 注意：copy和copy2的唯一区别在于copy2复制文件时尽量保留元数据\n"
   ]
  },
  {
   "cell_type": "code",
   "execution_count": 11,
   "metadata": {},
   "outputs": [
    {
     "data": {
      "text/plain": [
       "'12.docx'"
      ]
     },
     "execution_count": 11,
     "metadata": {},
     "output_type": "execute_result"
    }
   ],
   "source": [
    "# copyfile()将一个文件中的内容复制到另外一个文件中\n",
    "# 格式：shutil.copyfile(\"源路径\", \"目标路径\")\n",
    "# 返回值：无\n",
    "\n",
    "shutil.copyfile(\"11.docx\", \"12.docx\")"
   ]
  },
  {
   "cell_type": "code",
   "execution_count": 12,
   "metadata": {},
   "outputs": [
    {
     "data": {
      "text/plain": [
       "'C:\\\\Users\\\\liujinghui\\\\\\\\workspace\\\\11.docx'"
      ]
     },
     "execution_count": 12,
     "metadata": {},
     "output_type": "execute_result"
    }
   ],
   "source": [
    "# move() 移动文件、文件夹\n",
    "# 格式：shutil.move(源路径，目标路径)\n",
    "# 返回值：目标路径\n",
    "\n",
    "shutil.move(\"11.docx\", \"C:\\\\Users\\\\liujinghui\\\\workspace\")"
   ]
  },
  {
   "cell_type": "markdown",
   "metadata": {},
   "source": [
    "# 归档压缩\n",
    "- 归档：把多个文件或者文件夹合并到一个文件当中\n",
    "- 压缩：用算法把多个文件或者文件夹无损或者有损合并到一个文件当中"
   ]
  },
  {
   "cell_type": "code",
   "execution_count": 13,
   "metadata": {},
   "outputs": [],
   "source": [
    "# make_archive() 归档操作\n",
    "# 格式： shutil.make_archive('归档之后的目录和文件名','后缀','需要归档的文件夹')\n",
    "# 返回值：归档之后的地址\n",
    "\n",
    "\n",
    "rst = shutil.make_archive(\"C:\\\\Users\\\\liujinghui\\\\workspace\", \"zip\", \"C:\\\\Users\\\\liujinghui\\\\\\workspace\")\n",
    "print(rst)"
   ]
  },
  {
   "cell_type": "code",
   "execution_count": 15,
   "metadata": {},
   "outputs": [],
   "source": [
    "# unpack_archive() 解包操作\n",
    "# 格式：shutil.unpack_archive('归档文件地址','解包之后的地址')\n",
    "# 返回值：None\n",
    "\n",
    "rst = shutil.unpack_archive(\"C:\\\\Users\\\\liujinghui\\\\bugreport.zip\",\"C:\\\\Users\\\\liujinghui\\\\bug\")\n",
    "print(rst)"
   ]
  },
  {
   "cell_type": "markdown",
   "metadata": {},
   "source": [
    "# zip - 压缩包\n",
    "- 模块名称叫 zipfile"
   ]
  },
  {
   "cell_type": "code",
   "execution_count": 16,
   "metadata": {},
   "outputs": [],
   "source": [
    "import zipfile"
   ]
  },
  {
   "cell_type": "code",
   "execution_count": 18,
   "metadata": {},
   "outputs": [],
   "source": [
    "# zipefile.ZipFile(file[, mode[, compression[, allowZip64]]])\n",
    "# 创建一个ZipFile对象，表示一个zip文件。参数file表示文件的路径或类文件对象（file-like object）；参数mode\n",
    "\n",
    "zf = zipfile.ZipFile(\"bugreport.zip\")"
   ]
  },
  {
   "cell_type": "code",
   "execution_count": 19,
   "metadata": {},
   "outputs": [
    {
     "name": "stdout",
     "output_type": "stream",
     "text": [
      "<ZipInfo filename='version.txt' compress_type=deflate file_size=3 compress_size=5>\n"
     ]
    }
   ],
   "source": [
    "# ZipFile.getinfo(name):\n",
    "# 获取zip文档内部指定文件的信息。返回一个zipfile.ZipInfo对象，它包括文件的详细信息。\n",
    "\n",
    "rst = zf.getinfo(\"version.txt\")\n",
    "print(rst)"
   ]
  },
  {
   "cell_type": "code",
   "execution_count": 20,
   "metadata": {},
   "outputs": [
    {
     "name": "stdout",
     "output_type": "stream",
     "text": [
      "['version.txt', 'FS/cache/recovery/last_locale', 'FS/proc/1/mountinfo', 'FS/proc/48/mountinfo', 'FS/proc/484/mountinfo', 'FS/proc/485/mountinfo', 'FS/proc/1165/mountinfo', 'FS/proc/1694/mountinfo', 'FS/proc/1835/mountinfo', 'FS/proc/1850/mountinfo', 'FS/proc/1867/mountinfo', 'FS/proc/1885/mountinfo', 'FS/proc/2230/mountinfo', 'FS/proc/2278/mountinfo', 'FS/proc/2588/mountinfo', 'FS/proc/2822/mountinfo', 'FS/proc/3224/mountinfo', 'FS/proc/4130/mountinfo', 'FS/proc/4180/mountinfo', 'FS/proc/4198/mountinfo', 'FS/proc/4212/mountinfo', 'FS/proc/4226/mountinfo', 'FS/proc/4239/mountinfo', 'FS/proc/4321/mountinfo', 'FS/proc/4344/mountinfo', 'FS/proc/4731/mountinfo', 'FS/proc/5298/mountinfo', 'FS/proc/6670/mountinfo', 'FS/proc/8264/mountinfo', 'FS/proc/9808/mountinfo', 'FS/proc/11042/mountinfo', 'FS/proc/12346/mountinfo', 'FS/proc/17207/mountinfo', 'FS/proc/18491/mountinfo', 'FS/proc/20389/mountinfo', 'FS/proc/20411/mountinfo', 'FS/proc/21353/mountinfo', 'FS/proc/22712/mountinfo', 'FS/proc/24827/mountinfo', 'FS/proc/25098/mountinfo', 'FS/proc/25148/mountinfo', 'FS/proc/25204/mountinfo', 'FS/proc/25280/mountinfo', 'FS/proc/25328/mountinfo', 'FS/proc/25414/mountinfo', 'FS/proc/25621/mountinfo', 'FS/proc/25648/mountinfo', 'FS/proc/25823/mountinfo', 'FS/proc/28264/mountinfo', 'FS/proc/28692/mountinfo', 'FS/proc/28707/mountinfo', 'FS/proc/29051/mountinfo', 'FS/proc/29260/mountinfo', 'FS/proc/29295/mountinfo', 'FS/proc/29392/mountinfo', 'FS/proc/29484/mountinfo', 'FS/proc/29863/mountinfo', 'FS/proc/29899/mountinfo', 'FS/proc/30000/mountinfo', 'FS/proc/30121/mountinfo', 'FS/proc/30751/mountinfo', 'FS/proc/30786/mountinfo', 'FS/proc/30844/mountinfo', 'FS/proc/31010/mountinfo', 'FS/data/tombstones/tombstone_00', 'FS/data/tombstones/tombstone_01', 'FS/data/tombstones/tombstone_02', 'FS/data/tombstones/tombstone_03', 'FS/data/tombstones/tombstone_04', 'FS/data/tombstones/tombstone_05', 'FS/data/tombstones/tombstone_07', 'FS/data/tombstones/tombstone_08', 'FS/data/tombstones/tombstone_09', 'bugreport-LLD-AL00-HONORLLD-AL00-2018-07-26-18-03-15.txt', 'main_entry.txt', 'dumpstate_log.txt']\n"
     ]
    }
   ],
   "source": [
    "# ZipFile.namelist()\n",
    "# 获取zip文档内所有文件的名称和列表。\n",
    "\n",
    "nl = zf.namelist()\n",
    "print(nl)"
   ]
  },
  {
   "cell_type": "code",
   "execution_count": 21,
   "metadata": {},
   "outputs": [
    {
     "name": "stdout",
     "output_type": "stream",
     "text": [
      "None\n"
     ]
    }
   ],
   "source": [
    "# ZipFile.extractall([path[, members[, pwd]]])\n",
    "# 解压zip文件中的所有文件到当前目录。\n",
    "\n",
    "rst = zf.extractall(\"C:\\\\Users\\\\liujinghui\\\\dana\")\n",
    "print(rst)"
   ]
  },
  {
   "cell_type": "markdown",
   "metadata": {},
   "source": [
    "# random\n",
    "- 随机数\n",
    "- 所有的随机模块都是伪随机"
   ]
  },
  {
   "cell_type": "code",
   "execution_count": 22,
   "metadata": {},
   "outputs": [],
   "source": [
    "import random"
   ]
  },
  {
   "cell_type": "code",
   "execution_count": 23,
   "metadata": {},
   "outputs": [
    {
     "name": "stdout",
     "output_type": "stream",
     "text": [
      "0.6582005833123864\n"
     ]
    }
   ],
   "source": [
    "# random() 获取0-1之间的随机小数\n",
    "# 格式：random.random()\n",
    "# 返回值：随机0-1直接的小数\n",
    "\n",
    "print(random.random())"
   ]
  },
  {
   "cell_type": "code",
   "execution_count": 29,
   "metadata": {},
   "outputs": [
    {
     "data": {
      "text/plain": [
       "3"
      ]
     },
     "execution_count": 29,
     "metadata": {},
     "output_type": "execute_result"
    }
   ],
   "source": [
    "# 作业：利用random函数，生成0-100之间的整数\n",
    "\n",
    "def rdint():\n",
    "    return int(100*random.random())\n",
    "\n",
    "rdint()"
   ]
  },
  {
   "cell_type": "code",
   "execution_count": 33,
   "metadata": {},
   "outputs": [
    {
     "name": "stdout",
     "output_type": "stream",
     "text": [
      "7haha\n"
     ]
    }
   ],
   "source": [
    "# choice() 随机返回序列中的某个值\n",
    "# 格式：random.choice(序列)\n",
    "# 返回值：序列中的某个值\n",
    "\n",
    "l = [str(i)+\"haha\" for i in range(10)]\n",
    "rst = random.choice(l)\n",
    "print(rst)"
   ]
  },
  {
   "cell_type": "code",
   "execution_count": 38,
   "metadata": {},
   "outputs": [
    {
     "name": "stdout",
     "output_type": "stream",
     "text": [
      "[0, 1, 2, 3, 4, 5, 6, 7, 8, 9]\n",
      "[6, 7, 5, 2, 8, 4, 9, 1, 0, 3]\n"
     ]
    }
   ],
   "source": [
    "# shuffle 随机打乱列表，打乱原来的列表\n",
    "# 格式：random.shuffle(列表)\n",
    "# 返回值：None\n",
    "\n",
    "l1 = [i for i in range(10)]\n",
    "print(l1)\n",
    "\n",
    "random.shuffle(l1)\n",
    "print(l1)"
   ]
  },
  {
   "cell_type": "code",
   "execution_count": 45,
   "metadata": {},
   "outputs": [
    {
     "name": "stdout",
     "output_type": "stream",
     "text": [
      "4\n"
     ]
    }
   ],
   "source": [
    "# randint(a,b) :返回一个a到b直接的随机整数，包含a和b\n",
    "\n",
    "print(random.randint(0, 10))"
   ]
  }
 ],
 "metadata": {
  "kernelspec": {
   "display_name": "Python 3",
   "language": "python",
   "name": "python3"
  },
  "language_info": {
   "codemirror_mode": {
    "name": "ipython",
    "version": 3
   },
   "file_extension": ".py",
   "mimetype": "text/x-python",
   "name": "python",
   "nbconvert_exporter": "python",
   "pygments_lexer": "ipython3",
   "version": "3.7.0"
  }
 },
 "nbformat": 4,
 "nbformat_minor": 2
}
