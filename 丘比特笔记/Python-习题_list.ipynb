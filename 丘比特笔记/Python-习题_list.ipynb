{
 "cells": [
  {
   "cell_type": "markdown",
   "metadata": {},
   "source": [
    "# list"
   ]
  },
  {
   "cell_type": "code",
   "execution_count": 3,
   "metadata": {},
   "outputs": [
    {
     "name": "stdout",
     "output_type": "stream",
     "text": [
      "78787080\n",
      "[1, 2, 3, 4, 5, 6]\n",
      "78787080\n"
     ]
    }
   ],
   "source": [
    "# append() 向列表末尾添加新元素 返回值None\n",
    "list1 = [1,2,3,4,5]\n",
    "print(id(list1))\n",
    "list1.append(6)\n",
    "print(list1)\n",
    "print(id(list1))"
   ]
  },
  {
   "cell_type": "code",
   "execution_count": 5,
   "metadata": {},
   "outputs": [
    {
     "name": "stdout",
     "output_type": "stream",
     "text": [
      "[1, 2, 3, 4, 5]\n",
      "79515272\n",
      "78259528\n"
     ]
    }
   ],
   "source": [
    "# copy() 复制列表\n",
    "list1 = [1,2,3,4,5]\n",
    "list2 = list1.copy()\n",
    "print(list2)\n",
    "print(id(list1))\n",
    "print(id(list2))"
   ]
  },
  {
   "cell_type": "code",
   "execution_count": 7,
   "metadata": {},
   "outputs": [
    {
     "name": "stdout",
     "output_type": "stream",
     "text": [
      "1\n",
      "5\n"
     ]
    }
   ],
   "source": [
    "# count() 计算某个元素在列表中出现的次数\n",
    "list1 = [1,2,3,4,1,2,3,1,1,1]\n",
    "print(list1.count(4))\n",
    "print(list1.count(1))"
   ]
  },
  {
   "cell_type": "code",
   "execution_count": 9,
   "metadata": {
    "scrolled": true
   },
   "outputs": [
    {
     "name": "stdout",
     "output_type": "stream",
     "text": [
      "[1, 2, 3, 4, 5, 6, 7, 8, 9, 10]\n",
      "[6, 7, 8, 9, 10]\n",
      "None\n",
      "[1, 2, 3, 4, 5, 6, 7, 8, 9, 10, 6, 7, 8, 9, 10]\n"
     ]
    }
   ],
   "source": [
    "# extend() 将一个列表继承另一个列表 返回None\n",
    "list1 = [1,2,3,4,5]\n",
    "list2 = [6,7,8,9,10]\n",
    "list3 = list1.extend(list2)\n",
    "print(list1)\n",
    "print(list2)\n",
    "print(list3)\n",
    "print(list1+list2)"
   ]
  },
  {
   "cell_type": "code",
   "execution_count": 17,
   "metadata": {
    "scrolled": true
   },
   "outputs": [
    {
     "name": "stdout",
     "output_type": "stream",
     "text": [
      "2\n",
      "4\n"
     ]
    }
   ],
   "source": [
    "# index() 获取值在列表中的索引\n",
    "list1 = [1,2,3,4,3,5,6,3]\n",
    "print(list1.index(3))\n",
    "print(list1.index(3,3,5))"
   ]
  },
  {
   "cell_type": "code",
   "execution_count": 20,
   "metadata": {},
   "outputs": [
    {
     "name": "stdout",
     "output_type": "stream",
     "text": [
      "[1, 2, 9, 3, 4, 5]\n"
     ]
    }
   ],
   "source": [
    "# insert() 在指定位置前插入元素  2个参数\n",
    "list1 = [1,2,3,4,5]\n",
    "list1.insert(2, 9)\n",
    "print(list1)"
   ]
  },
  {
   "cell_type": "code",
   "execution_count": 23,
   "metadata": {},
   "outputs": [
    {
     "name": "stdout",
     "output_type": "stream",
     "text": [
      "5\n",
      "3\n",
      "[1, 2, 4]\n"
     ]
    }
   ],
   "source": [
    "# pop() 根据索引移除列表内的一个元素，不给索引默认移除最后一个，返回移除的那个值\n",
    "list1 = [1,2,3,4,5]\n",
    "print(list1.pop())\n",
    "print(list1.pop(2))\n",
    "print(list1)"
   ]
  },
  {
   "cell_type": "code",
   "execution_count": 25,
   "metadata": {},
   "outputs": [
    {
     "name": "stdout",
     "output_type": "stream",
     "text": [
      "None\n",
      "['a', 'c', 'd']\n"
     ]
    }
   ],
   "source": [
    "# remove() 移除列表种指定的值  返回None\n",
    "list1 = ['a', 'b', 'c', 'd']\n",
    "print(list1.remove('b'))\n",
    "print(list1)"
   ]
  },
  {
   "cell_type": "code",
   "execution_count": 26,
   "metadata": {},
   "outputs": [
    {
     "name": "stdout",
     "output_type": "stream",
     "text": [
      "78789064\n",
      "78789064\n",
      "[4, 3, 2, 1]\n"
     ]
    }
   ],
   "source": [
    "# reverse() 列表反转\n",
    "list1 = [1,2,3,4]\n",
    "print(id(list1))\n",
    "list1.reverse()\n",
    "print(id(list1))\n",
    "print(list1)"
   ]
  },
  {
   "cell_type": "code",
   "execution_count": 29,
   "metadata": {},
   "outputs": [
    {
     "name": "stdout",
     "output_type": "stream",
     "text": [
      "78788488\n",
      "[1, 2, 3, 4, 5, 6, 8]\n",
      "78788488\n",
      "[8, 6, 5, 4, 3, 2, 1]\n",
      "78788488\n"
     ]
    }
   ],
   "source": [
    "# sort() 排序 默认从小到大\n",
    "list1 = [5,2,3,6,4,1,8]\n",
    "print(id(list1))\n",
    "list1.sort()\n",
    "print(list1)\n",
    "print(id(list1))\n",
    "# 从打到小\n",
    "list1.sort(reverse=True)\n",
    "print(list1)\n",
    "print(id(list1))\n"
   ]
  },
  {
   "cell_type": "code",
   "execution_count": 32,
   "metadata": {},
   "outputs": [
    {
     "name": "stdout",
     "output_type": "stream",
     "text": [
      "Help on built-in function sort:\n",
      "\n",
      "sort(*, key=None, reverse=False) method of builtins.list instance\n",
      "    Stable sort *IN PLACE*.\n",
      "\n"
     ]
    }
   ],
   "source": [
    "help(list.sort)"
   ]
  }
 ],
 "metadata": {
  "kernelspec": {
   "display_name": "Python 3",
   "language": "python",
   "name": "python3"
  },
  "language_info": {
   "codemirror_mode": {
    "name": "ipython",
    "version": 3
   },
   "file_extension": ".py",
   "mimetype": "text/x-python",
   "name": "python",
   "nbconvert_exporter": "python",
   "pygments_lexer": "ipython3",
   "version": "3.7.0"
  }
 },
 "nbformat": 4,
 "nbformat_minor": 2
}
