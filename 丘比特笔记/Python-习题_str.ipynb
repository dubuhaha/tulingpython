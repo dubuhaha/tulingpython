{
 "cells": [
  {
   "cell_type": "markdown",
   "metadata": {},
   "source": [
    "# Python数据类型的内置函数\n",
    "- str\n",
    "- list\n",
    "- dict\n",
    "- set"
   ]
  },
  {
   "cell_type": "markdown",
   "metadata": {},
   "source": [
    "# 字符串的简单操作"
   ]
  },
  {
   "cell_type": "code",
   "execution_count": 2,
   "metadata": {},
   "outputs": [
    {
     "name": "stdout",
     "output_type": "stream",
     "text": [
      "i lovewangxiaojing\n",
      "i love wangxiaojing\n",
      "i love wangxiaojing\n"
     ]
    }
   ],
   "source": [
    "# 连接操作\n",
    "s1 = \"i love\"\n",
    "s2 = \"wangxiaojing\"\n",
    "\n",
    "s3 = s1 + s2\n",
    "print(s3)\n",
    "\n",
    "print(s1 + \" \" + s2)\n",
    "print(\"i love\" + \" wangxiaojing\")"
   ]
  },
  {
   "cell_type": "code",
   "execution_count": 5,
   "metadata": {},
   "outputs": [
    {
     "name": "stdout",
     "output_type": "stream",
     "text": [
      " i love wang i love wang i love wang i love wang i love wang\n"
     ]
    }
   ],
   "source": [
    "# 字符串的乘法\n",
    "s1 = \" i love wang\"\n",
    "s2 = s1 * 5\n",
    "print(s2)"
   ]
  },
  {
   "cell_type": "code",
   "execution_count": 13,
   "metadata": {
    "scrolled": true
   },
   "outputs": [
    {
     "name": "stdout",
     "output_type": "stream",
     "text": [
      "i\n",
      "g\n",
      "3456\n",
      "123456789\n"
     ]
    },
    {
     "ename": "TypeError",
     "evalue": "'str' object does not support item assignment",
     "output_type": "error",
     "traceback": [
      "\u001b[1;31m---------------------------------------------------------------------------\u001b[0m",
      "\u001b[1;31mTypeError\u001b[0m                                 Traceback (most recent call last)",
      "\u001b[1;32m<ipython-input-13-444bdfe44723>\u001b[0m in \u001b[0;36m<module>\u001b[1;34m()\u001b[0m\n\u001b[0;32m     15\u001b[0m \u001b[0ms1\u001b[0m \u001b[1;33m=\u001b[0m \u001b[0ms\u001b[0m\u001b[1;33m[\u001b[0m\u001b[1;33m:\u001b[0m\u001b[1;33m]\u001b[0m\u001b[1;33m\u001b[0m\u001b[0m\n\u001b[0;32m     16\u001b[0m \u001b[1;33m\u001b[0m\u001b[0m\n\u001b[1;32m---> 17\u001b[1;33m \u001b[0ms1\u001b[0m\u001b[1;33m[\u001b[0m\u001b[1;36m1\u001b[0m\u001b[1;33m]\u001b[0m \u001b[1;33m=\u001b[0m \u001b[1;34m'A'\u001b[0m\u001b[1;33m\u001b[0m\u001b[0m\n\u001b[0m\u001b[0;32m     18\u001b[0m \u001b[0mprint\u001b[0m\u001b[1;33m(\u001b[0m\u001b[0mid\u001b[0m\u001b[1;33m(\u001b[0m\u001b[0ms\u001b[0m\u001b[1;33m)\u001b[0m\u001b[1;33m)\u001b[0m\u001b[1;33m\u001b[0m\u001b[0m\n\u001b[0;32m     19\u001b[0m \u001b[0mprint\u001b[0m\u001b[1;33m(\u001b[0m\u001b[0mid\u001b[0m\u001b[1;33m(\u001b[0m\u001b[0ms1\u001b[0m\u001b[1;33m)\u001b[0m\u001b[1;33m)\u001b[0m\u001b[1;33m\u001b[0m\u001b[0m\n",
      "\u001b[1;31mTypeError\u001b[0m: 'str' object does not support item assignment"
     ]
    }
   ],
   "source": [
    "# 字符串当前列表\n",
    "\n",
    "s = \" i love wang\"\n",
    "print(s[1])\n",
    "print(s[-1])\n",
    "\n",
    "s = \"123456789\"\n",
    "print(s[2:6])\n",
    "print(s[:])\n",
    "\n",
    "# 切片返回都是一个全新的字符串吗？\n",
    "# 如果切片取一部分，则返回全新的字符串\n",
    "# 如果取完整切片，可能返回内容指向同一字符串\n",
    "s = \"i love you baby\"\n",
    "s1 = s[:]\n",
    "\n",
    "# 不能直接对字符串进行下标元素赋值，否则会导致错误\n",
    "# 'str' object does not support item assignment\n",
    "s1[1] = 'A'\n",
    "print(id(s))\n",
    "print(id(s1))"
   ]
  },
  {
   "cell_type": "code",
   "execution_count": 15,
   "metadata": {
    "scrolled": true
   },
   "outputs": [
    {
     "name": "stdout",
     "output_type": "stream",
     "text": [
      "78780616\n",
      "78320712\n",
      "78780616\n",
      "78690632\n"
     ]
    }
   ],
   "source": [
    "# 用实验证明部分切片和完整切片的区别\n",
    "# list切片返回一个全新的list\n",
    "l = [1,2,3,4,5,6,7,8,9,10]\n",
    "\n",
    "l1 = l[1:6]\n",
    "print(id(l))\n",
    "print(id(l1))\n",
    "\n",
    "l2 = l[:]\n",
    "print(id(l))\n",
    "print(id(l2))"
   ]
  },
  {
   "cell_type": "code",
   "execution_count": 18,
   "metadata": {},
   "outputs": [
    {
     "name": "stdout",
     "output_type": "stream",
     "text": [
      "I love wangxiaojing\n"
     ]
    }
   ],
   "source": [
    "# capitalize首字母大写，其余小写，返回字符串\n",
    "\n",
    "s = \"i Love wangxiaojing\"\n",
    "print(s.capitalize())"
   ]
  },
  {
   "cell_type": "code",
   "execution_count": 19,
   "metadata": {},
   "outputs": [
    {
     "name": "stdout",
     "output_type": "stream",
     "text": [
      "I Love Wangxiaojing\n"
     ]
    }
   ],
   "source": [
    "# title() 将每个单词的首字母变为大写，返回的是字符串\n",
    "\n",
    "s = \"i love wangxiaojing\"\n",
    "s1 = s.title()\n",
    "print(s1)"
   ]
  },
  {
   "cell_type": "code",
   "execution_count": 20,
   "metadata": {},
   "outputs": [
    {
     "name": "stdout",
     "output_type": "stream",
     "text": [
      "I 狗 LIKE DOG\n"
     ]
    }
   ],
   "source": [
    "# upper() 将所有字母变为大写字母 返回的是字符串\n",
    "\n",
    "s = \"I 狗 like dog\"\n",
    "print(s.upper())"
   ]
  },
  {
   "cell_type": "code",
   "execution_count": 21,
   "metadata": {},
   "outputs": [
    {
     "name": "stdout",
     "output_type": "stream",
     "text": [
      "i 狗 LIKE DOG\n"
     ]
    }
   ],
   "source": [
    "# swapcase() 大小写互换 返回字符串\n",
    "s = \"I 狗 like dog\"\n",
    "print(s.swapcase())"
   ]
  },
  {
   "cell_type": "code",
   "execution_count": 23,
   "metadata": {},
   "outputs": [
    {
     "name": "stdout",
     "output_type": "stream",
     "text": [
      "11\n",
      "10\n"
     ]
    }
   ],
   "source": [
    "# len() 计算字符串长度，不属于字符串的内建函数\n",
    "s = \"I 狗like dog\"\n",
    "s1 = \"I like dog\"\n",
    "print(len(s))\n",
    "print(len(s1))"
   ]
  },
  {
   "cell_type": "code",
   "execution_count": 35,
   "metadata": {},
   "outputs": [
    {
     "name": "stdout",
     "output_type": "stream",
     "text": [
      "4\n",
      "10\n"
     ]
    }
   ],
   "source": [
    "# find() 查找字符串，找不到返回-1 第一次找到返回第一次索引值\n",
    "# index() 查找字符串，找不到报错\n",
    "\n",
    "s = \"asdfsghjklasdfghkls\"\n",
    "s1 = s.find('s', 3) # 从下标3开始找\n",
    "s2 = s.index('a', 2)\n",
    "print(s1)\n",
    "print(s2)"
   ]
  },
  {
   "cell_type": "code",
   "execution_count": 37,
   "metadata": {
    "scrolled": true
   },
   "outputs": [
    {
     "name": "stdout",
     "output_type": "stream",
     "text": [
      "4\n"
     ]
    }
   ],
   "source": [
    "# count() 计算字符串出现次数，返回整形\n",
    "s = \"asdfsghjklasdfghkls\"\n",
    "print(s.count('s'))"
   ]
  },
  {
   "cell_type": "code",
   "execution_count": 40,
   "metadata": {
    "scrolled": true
   },
   "outputs": [
    {
     "name": "stdout",
     "output_type": "stream",
     "text": [
      "False\n",
      "True\n",
      "====================\n",
      "True\n",
      "False\n"
     ]
    }
   ],
   "source": [
    "# startwith() 检测是否以指定字母开头 返回布尔值\n",
    "# endswith() 检测是否以指定字符结束\n",
    "\n",
    "s = \"I like dog\"\n",
    "print(s.startswith(\"i\"))\n",
    "print(s.startswith(\"I\"))\n",
    "\n",
    "print(\"=\" * 20)\n",
    "\n",
    "print(s.endswith('g'))\n",
    "print(s.endswith('d'))"
   ]
  },
  {
   "cell_type": "code",
   "execution_count": 47,
   "metadata": {
    "scrolled": true
   },
   "outputs": [
    {
     "name": "stdout",
     "output_type": "stream",
     "text": [
      "False\n",
      "True\n",
      "====================\n",
      "True\n",
      "False\n",
      "====================\n",
      "False\n",
      "False\n",
      "True\n",
      "====================\n",
      "True\n",
      "False\n",
      "True\n"
     ]
    }
   ],
   "source": [
    "# isupper() 检测所有字母是否是大写字母 返回的都是布尔值\n",
    "s = \"f狗gh\"\n",
    "s1 = \"DF狗GH\"\n",
    "print(s.isupper())\n",
    "print(s1.isupper())\n",
    "\n",
    "print(\"=\" * 20)\n",
    "# islower() 检测所有字母是否是小写字母\n",
    "print(s.islower())\n",
    "print(s1.islower())\n",
    "\n",
    "print(\"=\" * 20)\n",
    "# istitle() 检测是否是以指定标题显示（每个单词首字母大写）\n",
    "print(s.istitle())\n",
    "print(s1.istitle())\n",
    "\n",
    "s2 = \"I Like Dog\"\n",
    "print(s2.istitle())\n",
    "\n",
    "print(\"=\" * 20)\n",
    "# isspace() 检测字符串是否是空字符串\n",
    "s = \"  \"\n",
    "s1 = \"i like you\"\n",
    "s2 = \" \" # 至少有一个否则返回False\n",
    "\n",
    "print(s.isspace())\n",
    "print(s1.isspace())\n",
    "print(s2.isspace())"
   ]
  },
  {
   "cell_type": "code",
   "execution_count": 49,
   "metadata": {},
   "outputs": [
    {
     "name": "stdout",
     "output_type": "stream",
     "text": [
      "False\n",
      "True\n",
      "True\n"
     ]
    }
   ],
   "source": [
    "# isalpha() 检测字符串是否字符组成 返回布尔值\n",
    "\n",
    "s = \"I like dog\"\n",
    "s1 = \"Ilikeyou\"\n",
    "\n",
    "print(s.isalpha())\n",
    "print(s1.isalpha())\n",
    "\n",
    "s2 = \"汉字是不是\"\n",
    "print(s2.isalpha())"
   ]
  },
  {
   "cell_type": "code",
   "execution_count": 51,
   "metadata": {},
   "outputs": [
    {
     "name": "stdout",
     "output_type": "stream",
     "text": [
      "False\n",
      "True\n",
      "True\n",
      "False\n"
     ]
    }
   ],
   "source": [
    "# isalnum() 检测字符串是否是由字母加数字组成  返回布尔值\n",
    "\n",
    "s = \"I like 33 you\"\n",
    "s1 = \"Ilikeyou33\"\n",
    "s2 = \"12234\"\n",
    "print(s.isalnum())\n",
    "print(s1.isalnum())\n",
    "print(s2.isalnum())\n",
    "\n",
    "s3 = \"jdlfjldjfl&\"\n",
    "print(s3.isalnum())"
   ]
  },
  {
   "cell_type": "code",
   "execution_count": 62,
   "metadata": {},
   "outputs": [
    {
     "name": "stdout",
     "output_type": "stream",
     "text": [
      "True\n",
      "True\n",
      "True\n",
      "====================\n",
      "True\n",
      "====================\n",
      "False\n",
      "False\n",
      "False\n",
      "====================\n",
      "False\n",
      "False\n",
      "True\n",
      "********************\n",
      "False\n",
      "False\n",
      "True\n"
     ]
    }
   ],
   "source": [
    "# isdigit() 检测字符串是否由数字组成\n",
    "# isdecimal()\n",
    "# isnumeric()\n",
    "s = '123'\n",
    "print(s.isdigit())\n",
    "print(s.isdecimal())\n",
    "print(s.isnumeric())\n",
    "\n",
    "print(\"=\" * 20)\n",
    "s = b'101100'\n",
    "print(s.isdigit())\n",
    "#print(s.isdecimal())\n",
    "#print(s.isnumeric())\n",
    "\n",
    "print(\"=\" * 20)\n",
    "s = '123.2'\n",
    "print(s.isdigit())\n",
    "print(s.isdecimal())\n",
    "print(s.isnumeric())\n",
    "\n",
    "print(\"=\" * 20)\n",
    "s = '叁壹佰'\n",
    "print(s.isdigit())\n",
    "print(s.isdecimal())\n",
    "print(s.isnumeric())\n",
    "\n",
    "print(\"*\" * 20)\n",
    "s = 'Ⅲ' # 罗马数字3\n",
    "print(s.isdigit())\n",
    "print(s.isdecimal())\n",
    "print(s.isnumeric())"
   ]
  },
  {
   "cell_type": "code",
   "execution_count": 63,
   "metadata": {},
   "outputs": [
    {
     "name": "stdout",
     "output_type": "stream",
     "text": [
      "['日照香炉生紫烟', '要看瀑布挂前川', '飞流直下三千尺', '疑是银河落九天']\n"
     ]
    }
   ],
   "source": [
    "# split() 用指定字符切割字符串 返回有字符串组成的列表\n",
    "s = \"日照香炉生紫烟 要看瀑布挂前川 飞流直下三千尺 疑是银河落九天\"\n",
    "list = s.split(\" \")\n",
    "print(list)"
   ]
  },
  {
   "cell_type": "code",
   "execution_count": 65,
   "metadata": {},
   "outputs": [
    {
     "name": "stdout",
     "output_type": "stream",
     "text": [
      "日照香炉生紫烟*要看瀑布挂前川*飞流直下三千尺*疑是银河落九天\n"
     ]
    }
   ],
   "source": [
    "# join() 将列表按照指定字符串链接  返回的是字符串\n",
    "list = ['日照香炉生紫烟', '要看瀑布挂前川', '飞流直下三千尺', '疑是银河落九天']\n",
    "\n",
    "s = '*'.join(list)\n",
    "print(s)"
   ]
  },
  {
   "cell_type": "code",
   "execution_count": 73,
   "metadata": {
    "scrolled": true
   },
   "outputs": [
    {
     "name": "stdout",
     "output_type": "stream",
     "text": [
      "3\n",
      "abc  a\n",
      "###abc####\n",
      "       abc\n",
      "*******abc\n"
     ]
    }
   ],
   "source": [
    "# ljust() 指定字符串的长度，内容靠左边，不足的位置用指定字符填充，默认空格，返回字符串\n",
    "s = 'abc'\n",
    "print(len(s))\n",
    "print(s.ljust(5)+\"a\")\n",
    "\n",
    "# center() 指定字符串长度，内容居中，不足的位置用指定字符填充，默认空格，返回字符串\n",
    "print(s.center(10, \"#\"))\n",
    "\n",
    "# rjust() 指定字符串的长度，内容靠右边，不足的位置用指定字符填充，默认空格，返回字符串\n",
    "print(s.rjust(10))\n",
    "print(s.rjust(10, \"*\"))"
   ]
  },
  {
   "cell_type": "code",
   "execution_count": 81,
   "metadata": {},
   "outputs": [
    {
     "name": "stdout",
     "output_type": "stream",
     "text": [
      "--abc--\n",
      "abc  ---\n",
      "bbcc\n",
      "aaaabbcc\n",
      "aaaabb\n"
     ]
    }
   ],
   "source": [
    "# strip() 去掉左右两边指定字符，默认是去掉空格\n",
    "# lstrip() 去掉左边指定字符，默认空格\n",
    "# rstrip() 去掉右边指定字符，默认空格\n",
    "\n",
    "s = \"     abc  \"\n",
    "print(\"--\" + s.strip() + \"--\")\n",
    "print(s.lstrip() + '---')\n",
    "\n",
    "s = \"aaaabbcc\"\n",
    "print(s.lstrip(\"a\"))\n",
    "print(s.rstrip(\"b\"))\n",
    "print(s.rstrip(\"c\"))"
   ]
  },
  {
   "cell_type": "code",
   "execution_count": 86,
   "metadata": {},
   "outputs": [
    {
     "name": "stdout",
     "output_type": "stream",
     "text": [
      "0000000abc\n"
     ]
    }
   ],
   "source": [
    "# zfill() 指定字符串长度，内容靠右，不足的位置用0填充\n",
    "s = 'abc'\n",
    "print(s.zfill(10))"
   ]
  },
  {
   "cell_type": "code",
   "execution_count": 89,
   "metadata": {},
   "outputs": [
    {
     "ename": "ValueError",
     "evalue": "the first two maketrans arguments must have equal length",
     "output_type": "error",
     "traceback": [
      "\u001b[1;31m---------------------------------------------------------------------------\u001b[0m",
      "\u001b[1;31mValueError\u001b[0m                                Traceback (most recent call last)",
      "\u001b[1;32m<ipython-input-89-963e1ed079ac>\u001b[0m in \u001b[0;36m<module>\u001b[1;34m()\u001b[0m\n\u001b[0;32m      2\u001b[0m \u001b[1;31m# translate() 进行字符串替换\u001b[0m\u001b[1;33m\u001b[0m\u001b[1;33m\u001b[0m\u001b[0m\n\u001b[0;32m      3\u001b[0m \u001b[0ms\u001b[0m \u001b[1;33m=\u001b[0m \u001b[1;34m\"今晚晚上我吃麻辣烫，哈哈哈\"\u001b[0m\u001b[1;33m\u001b[0m\u001b[0m\n\u001b[1;32m----> 4\u001b[1;33m \u001b[0mtable\u001b[0m \u001b[1;33m=\u001b[0m \u001b[0ms\u001b[0m\u001b[1;33m.\u001b[0m\u001b[0mmaketrans\u001b[0m\u001b[1;33m(\u001b[0m\u001b[1;34m'麻辣烫'\u001b[0m\u001b[1;33m,\u001b[0m \u001b[1;34m'大白菜和粉条'\u001b[0m\u001b[1;33m)\u001b[0m\u001b[1;33m\u001b[0m\u001b[0m\n\u001b[0m\u001b[0;32m      5\u001b[0m \u001b[0mprint\u001b[0m\u001b[1;33m(\u001b[0m\u001b[0mtable\u001b[0m\u001b[1;33m)\u001b[0m\u001b[1;33m\u001b[0m\u001b[0m\n\u001b[0;32m      6\u001b[0m \u001b[0mprint\u001b[0m\u001b[1;33m(\u001b[0m\u001b[0ms\u001b[0m\u001b[1;33m.\u001b[0m\u001b[0mtranslate\u001b[0m\u001b[1;33m(\u001b[0m\u001b[0mtable\u001b[0m\u001b[1;33m)\u001b[0m\u001b[1;33m)\u001b[0m\u001b[1;33m\u001b[0m\u001b[0m\n",
      "\u001b[1;31mValueError\u001b[0m: the first two maketrans arguments must have equal length"
     ]
    }
   ],
   "source": [
    "# maketrans() 生成用于字符串替换的映射表\n",
    "# translate() 进行字符串替换\n",
    "s = \"今晚晚上我吃麻辣烫，哈哈哈\"\n",
    "table = s.maketrans('麻辣烫', '大白菜')\n",
    "# table = s.maketrans('麻辣烫', '大白菜和粉条')\n",
    "# maketrans参数长度要保持一致，否则报错\n",
    "# the first two maketrans arguments must have equal length\n",
    "print(table)\n",
    "print(s.translate(table))\n",
    "\n"
   ]
  },
  {
   "cell_type": "code",
   "execution_count": 84,
   "metadata": {},
   "outputs": [
    {
     "name": "stdout",
     "output_type": "stream",
     "text": [
      "Help on built-in function zfill:\n",
      "\n",
      "zfill(width, /) method of builtins.str instance\n",
      "    Pad a numeric string with zeros on the left, to fill a field of the given width.\n",
      "    \n",
      "    The string is never truncated.\n",
      "\n"
     ]
    }
   ],
   "source": [
    "help(str.zfill)"
   ]
  }
 ],
 "metadata": {
  "kernelspec": {
   "display_name": "Python 3",
   "language": "python",
   "name": "python3"
  },
  "language_info": {
   "codemirror_mode": {
    "name": "ipython",
    "version": 3
   },
   "file_extension": ".py",
   "mimetype": "text/x-python",
   "name": "python",
   "nbconvert_exporter": "python",
   "pygments_lexer": "ipython3",
   "version": "3.7.0"
  }
 },
 "nbformat": 4,
 "nbformat_minor": 2
}
