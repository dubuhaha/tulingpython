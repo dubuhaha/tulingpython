{
 "cells": [
  {
   "cell_type": "markdown",
   "metadata": {},
   "source": [
    "### 编写一个程序，统计当前目录下每个文件类型的文件数\n",
    "### 思路\n",
    "- 打开当前文件夹\n",
    "- 获取当前文件夹下面所有的文件\n",
    "- 处理我们当前的文件夹下面可能有文件夹的情况（也要打印处理）\n",
    "- 做出统计"
   ]
  },
  {
   "cell_type": "code",
   "execution_count": 15,
   "metadata": {},
   "outputs": [
    {
     "name": "stdout",
     "output_type": "stream",
     "text": [
      "该文件夹下面有类型为文件夹的文件1个\n",
      "该文件夹下面有类型为.ipynb的文件21个\n",
      "该文件夹下面有类型为.json的文件1个\n",
      "该文件夹下面有类型为.txt的文件3个\n",
      "<class 'dict'>\n"
     ]
    }
   ],
   "source": [
    "import os\n",
    "\n",
    "# 获取到当前文件夹下面的所有文件\n",
    "all_files = os.listdir(os.curdir) # os.curdir 表示当前目录\n",
    "\n",
    "type_dict = dict()\n",
    "\n",
    "for each_file in all_files:\n",
    "    # 如果说我们的each_file是文件夹\n",
    "    if os.path.isdir(each_file):\n",
    "        type_dict.setdefault(\"文件夹\", 0)\n",
    "        type_dict[\"文件夹\"] += 1\n",
    "    else:\n",
    "        # 如果不是文件夹，而是文件，统计我们的文件\n",
    "        ext = os.path.splitext(each_file)[1] # 获取文件的后缀\n",
    "        type_dict.setdefault(ext,0)\n",
    "        type_dict[ext] += 1\n",
    "        \n",
    "for each_type in type_dict:\n",
    "    print(\"该文件夹下面有类型为{}的文件{}个\".format(each_type, type_dict[each_type]))"
   ]
  },
  {
   "cell_type": "markdown",
   "metadata": {},
   "source": [
    "### 编写一个程序，计算当前文件夹下面所有文件的大小\n",
    "- 打开当前文件夹\n",
    "- 获取到所有的文件和大小\n",
    "- 保存我们获取到的数据，然后打印"
   ]
  },
  {
   "cell_type": "code",
   "execution_count": 17,
   "metadata": {
    "scrolled": false
   },
   "outputs": [
    {
     "name": "stdout",
     "output_type": "stream",
     "text": [
      "06-常用模块.ipynb大小40481\n",
      "07-函数式编程.ipynb大小22604\n",
      "1234.json大小93\n",
      "hhh.txt大小21\n",
      "Python-习题-for.ipynb大小10044\n",
      "Python-习题-map,filter,lambda.ipynb大小5795\n",
      "Python-习题-商品按权重排名.ipynb大小3609\n",
      "Python-习题-小游戏用户数字.ipynb大小2770\n",
      "Python-习题-异常和登录程序.ipynb大小7149\n",
      "Python-习题-文件操作01.ipynb大小10425\n",
      "Python-习题-文件操作02.ipynb大小4403\n",
      "Python-习题-水仙花、三色球.ipynb大小3469\n",
      "Python-习题-注册登录账号.ipynb大小2078\n",
      "Python-习题-爱因斯坦阶梯问题.ipynb大小2656\n",
      "Python-习题-面向对象编程.ipynb大小13761\n",
      "Python-习题-面向对象编程02.ipynb大小7872\n",
      "Python-习题_list.ipynb大小5565\n",
      "Python-习题_str.ipynb大小17904\n",
      "Python-习题_Tkinter-屏保.ipynb大小7911\n",
      "Python-习题_tuple_dict_set.ipynb大小12012\n",
      "Python-习题_递归.ipynb大小7088\n",
      "test1.txt大小48\n",
      "test2.txt大小0\n",
      "持久化-文件.ipynb大小10547\n",
      "高阶函数补充.ipynb大小8939\n"
     ]
    }
   ],
   "source": [
    "import os \n",
    "all_files = os.listdir(os.curdir)\n",
    "\n",
    "file_dict = dict()\n",
    "for each_file in all_files:\n",
    "    # 判断each_file是否是文件\n",
    "    if os.path.isfile(each_file):\n",
    "        file_size = os.path.getsize(each_file)\n",
    "        file_dict[each_file] = file_size\n",
    "        \n",
    "for each in file_dict.items():\n",
    "    print(\"{}大小{}\".format(each[0],each[1]))        "
   ]
  },
  {
   "cell_type": "markdown",
   "metadata": {},
   "source": [
    "### 编写一个程序，用户输入文件名以及开始搜索的路径，搜索改文件是否存，如果遇到文件夹，则继续搜索\n",
    "\n",
    "- input() 去接收用户输入的文件名和开始搜索的路径\n",
    "- os.path.isdir 去判断是不是文件夹，如果是的话，就需要进入该文件夹继续搜素，循环调用我们的函数实现（递归）"
   ]
  },
  {
   "cell_type": "code",
   "execution_count": 10,
   "metadata": {},
   "outputs": [
    {
     "name": "stdout",
     "output_type": "stream",
     "text": [
      "请输入目录C:\\Users\\liujinghui\\丘比特笔记\n",
      "请输入文件名testt.txt\n",
      "C:\\Users\\liujinghui\\丘比特笔记\\Untitled Folder\\testt.txt\n"
     ]
    }
   ],
   "source": [
    "import os\n",
    "\n",
    "start_dir = input(\"请输入目录\")\n",
    "target = input(\"请输入文件名\")\n",
    "\n",
    "def search_file(start_dir, target):\n",
    "    os.chdir(start_dir) # 切换到用户输入的路径\n",
    "    \n",
    "    for each_file in os.listdir(os.curdir):\n",
    "        if each_file == target:\n",
    "            print(os.getcwd() + os.sep + each_file) # os.sep 就是反斜杠\"\\\\\"\"\n",
    "        \n",
    "        if os.path.isdir(each_file):\n",
    "            search_file(each_file, target) # 递归调用\n",
    "            os.chdir(os.pardir)\n",
    "        \n",
    "search_file(start_dir, target)            "
   ]
  },
  {
   "cell_type": "markdown",
   "metadata": {},
   "source": [
    "### 对上述题目加一些需求，模糊匹配，判断我们的target是否包含再某一个文件中\n",
    "- in 关键字 去判断target字符串是否在文件的名字中"
   ]
  },
  {
   "cell_type": "code",
   "execution_count": 13,
   "metadata": {},
   "outputs": [
    {
     "name": "stdout",
     "output_type": "stream",
     "text": [
      "请输入目录C:\\Users\\liujinghui\\丘比特笔记\n",
      "请输入文件名文件\n",
      "C:\\Users\\liujinghui\\丘比特笔记\\.ipynb_checkpoints\\Python-习题-文件操作01-checkpoint.ipynb\n",
      "C:\\Users\\liujinghui\\丘比特笔记\\.ipynb_checkpoints\\Python-习题-文件操作02-checkpoint.ipynb\n",
      "C:\\Users\\liujinghui\\丘比特笔记\\.ipynb_checkpoints\\持久化-文件-checkpoint.ipynb\n",
      "C:\\Users\\liujinghui\\丘比特笔记\\Python-习题-文件操作01.ipynb\n",
      "C:\\Users\\liujinghui\\丘比特笔记\\Python-习题-文件操作02.ipynb\n",
      "C:\\Users\\liujinghui\\丘比特笔记\\持久化-文件.ipynb\n"
     ]
    }
   ],
   "source": [
    "import os\n",
    "\n",
    "start_dir = input(\"请输入目录\")\n",
    "target = input(\"请输入文件名\")\n",
    "\n",
    "def search_file(start_dir, target):\n",
    "    os.chdir(start_dir) # 切换到用户输入的路径\n",
    "    \n",
    "    for each_file in os.listdir(os.curdir):\n",
    "        if target in each_file:\n",
    "            print(os.getcwd() + os.sep + each_file) # os.sep 就是反斜杠\"\\\\\"\"\n",
    "        \n",
    "        if os.path.isdir(each_file):\n",
    "            search_file(each_file, target) # 递归调用\n",
    "            os.chdir(os.pardir)\n",
    "        \n",
    "search_file(start_dir, target)            "
   ]
  },
  {
   "cell_type": "markdown",
   "metadata": {},
   "source": [
    "### 再加一个需求，上述题目，我们需要保存我们的文件存的目录，到我们制定的路径\n",
    "\n",
    "- file I/O 操作，写文件"
   ]
  },
  {
   "cell_type": "code",
   "execution_count": 4,
   "metadata": {},
   "outputs": [
    {
     "name": "stdout",
     "output_type": "stream",
     "text": [
      "请输入目录C:\\Users\\liujinghui\\丘比特笔记\n",
      "请输入文件名对象\n"
     ]
    }
   ],
   "source": [
    "import os\n",
    "\n",
    "start_dir = input(\"请输入目录\")\n",
    "target = input(\"请输入文件名\")\n",
    "backup = []\n",
    "\n",
    "def search_file(start_dir, target):\n",
    "    os.chdir(start_dir) # 切换到用户输入的路径\n",
    "    \n",
    "    for each_file in os.listdir(os.curdir):\n",
    "        if target in each_file:\n",
    "            backup_file = os.getcwd() + os.sep + each_file # os.sep 就是反斜杠\"\\\\\"\"\n",
    "            backup.append(backup_file)\n",
    "        if os.path.isdir(each_file):\n",
    "            search_file(each_file, target) # 递归调用\n",
    "            os.chdir(os.pardir)\n",
    "            \n",
    "    return backup\n",
    "        \n",
    "rd = search_file(start_dir, target)\n",
    "\n",
    "f = open(os.getcwd() + os.sep + \"backup.txt\", 'wb') # 有中文字符的时候注意用\"wb\"模式打开\n",
    "f.write(\"\\n\".join(rd).encode(\"utf-8\"))\n",
    "f.close()\n",
    "\n",
    "#print(rd)"
   ]
  }
 ],
 "metadata": {
  "kernelspec": {
   "display_name": "Python 3",
   "language": "python",
   "name": "python3"
  },
  "language_info": {
   "codemirror_mode": {
    "name": "ipython",
    "version": 3
   },
   "file_extension": ".py",
   "mimetype": "text/x-python",
   "name": "python",
   "nbconvert_exporter": "python",
   "pygments_lexer": "ipython3",
   "version": "3.7.0"
  }
 },
 "nbformat": 4,
 "nbformat_minor": 2
}
