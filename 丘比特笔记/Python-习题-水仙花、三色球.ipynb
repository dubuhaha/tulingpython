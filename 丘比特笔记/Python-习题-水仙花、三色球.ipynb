{
 "cells": [
  {
   "cell_type": "markdown",
   "metadata": {},
   "source": [
    "### 编写一个程序，求100-999之间的水仙花数\n",
    "- 如果一个3位数等于其各位数字的立方和，则这个数为水仙花数。例如：153=1^3+5^3+3^3"
   ]
  },
  {
   "cell_type": "code",
   "execution_count": 5,
   "metadata": {},
   "outputs": [
    {
     "name": "stdout",
     "output_type": "stream",
     "text": [
      "153\n",
      "370\n",
      "371\n",
      "407\n"
     ]
    }
   ],
   "source": [
    "for i in range(100, 1000):\n",
    "    temp = list(str(i))\n",
    "    a = temp[0]\n",
    "    b = temp[1]\n",
    "    c = temp[2]\n",
    "    if int(a)**3 + int(b)**3 + int(c)**3 == i:\n",
    "        print(i)"
   ]
  },
  {
   "cell_type": "markdown",
   "metadata": {},
   "source": [
    "### 三色球问题\n",
    "- 有红、黄、蓝三种颜色的球，其中红球3个，黄球3个，蓝球6个。先将这个12个球混合放在一个盒子中\n",
    "从中任意摸出8个球，编程计算摸出球的各种颜色搭配。"
   ]
  },
  {
   "cell_type": "code",
   "execution_count": 10,
   "metadata": {},
   "outputs": [
    {
     "name": "stdout",
     "output_type": "stream",
     "text": [
      "red:0\n",
      "yellow:2\n",
      "green:6\n",
      "====================\n",
      "red:1\n",
      "yellow:1\n",
      "green:6\n",
      "====================\n",
      "red:1\n",
      "yellow:2\n",
      "green:5\n",
      "====================\n",
      "red:2\n",
      "yellow:0\n",
      "green:6\n",
      "====================\n",
      "red:2\n",
      "yellow:1\n",
      "green:5\n",
      "====================\n",
      "red:2\n",
      "yellow:2\n",
      "green:4\n",
      "====================\n",
      "6\n"
     ]
    }
   ],
   "source": [
    "count = 0\n",
    "for r in range(3):\n",
    "    for y in range(3):\n",
    "        for g in range(2,7):\n",
    "            if r + y + g ==8:\n",
    "                count += 1\n",
    "                print('red:{}'.format(r))\n",
    "                print('yellow:{}'.format(y))\n",
    "                print('green:{}'.format(g))\n",
    "                print('='*20)\n",
    "print(count)"
   ]
  },
  {
   "cell_type": "code",
   "execution_count": 11,
   "metadata": {},
   "outputs": [
    {
     "name": "stdout",
     "output_type": "stream",
     "text": [
      "0 2 6\n",
      "0 3 5\n",
      "1 1 6\n",
      "1 2 5\n",
      "1 3 4\n",
      "2 0 6\n",
      "2 1 5\n",
      "2 2 4\n",
      "2 3 3\n",
      "3 0 5\n",
      "3 1 4\n",
      "3 2 3\n",
      "3 3 2\n"
     ]
    }
   ],
   "source": [
    "# 三色球2\n",
    "i=0\n",
    "j=0\n",
    "while i in range(0,4):\n",
    "    while j in range(0,4):\n",
    "        z=8-(i+j)\n",
    "        if z<7:\n",
    "            print(i,j,z)\n",
    "        j+=1\n",
    "    i+=1\n",
    "    j=0"
   ]
  },
  {
   "cell_type": "code",
   "execution_count": null,
   "metadata": {},
   "outputs": [],
   "source": []
  }
 ],
 "metadata": {
  "kernelspec": {
   "display_name": "Python 3",
   "language": "python",
   "name": "python3"
  },
  "language_info": {
   "codemirror_mode": {
    "name": "ipython",
    "version": 3
   },
   "file_extension": ".py",
   "mimetype": "text/x-python",
   "name": "python",
   "nbconvert_exporter": "python",
   "pygments_lexer": "ipython3",
   "version": "3.7.0"
  }
 },
 "nbformat": 4,
 "nbformat_minor": 2
}
