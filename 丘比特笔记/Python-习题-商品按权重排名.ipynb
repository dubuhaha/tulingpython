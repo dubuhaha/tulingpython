{
 "cells": [
  {
   "cell_type": "markdown",
   "metadata": {},
   "source": [
    "### 权重\n",
    "\n",
    "goods = [{\"name\":\"good1\", \"price\":200, \"sales\":100, \"star\":5, \"comments\":400},{\"name\":\"good2\", \"price\":250, \"sales\":1000, \"star\":4, \"comments\":400},{\"name\":\"good3\", \"price\":300, \"sales\":500, \"star\":3, \"comments\":400},{\"name\":\"good4\", \"price\":400, \"sales\":1000, \"star\":5, \"comments\":1000},{\"name\":\"good5\", \"price\":880, \"sales\":10, \"star\":5, \"comments\":40}]\n",
    "\n",
    "权重是100\n",
    "价格占的权重是40%，销量占的权重是17%，评级占的权重是13%，评论占的权重是30%"
   ]
  },
  {
   "cell_type": "code",
   "execution_count": 17,
   "metadata": {
    "scrolled": true
   },
   "outputs": [
    {
     "data": {
      "text/plain": [
       "[{'name': 'good3', 'price': 300, 'sales': 500, 'star': 3, 'comments': 400},\n",
       " {'name': 'good2', 'price': 250, 'sales': 1000, 'star': 4, 'comments': 400},\n",
       " {'name': 'good1', 'price': 200, 'sales': 100, 'star': 5, 'comments': 400},\n",
       " {'name': 'good4', 'price': 400, 'sales': 1000, 'star': 5, 'comments': 1000},\n",
       " {'name': 'good5', 'price': 880, 'sales': 10, 'star': 5, 'comments': 40}]"
      ]
     },
     "execution_count": 17,
     "metadata": {},
     "output_type": "execute_result"
    }
   ],
   "source": [
    "goods = [{\"name\":\"good1\", \"price\":200, \"sales\":100, \"star\":5, \"comments\":400},\\\n",
    "         {\"name\":\"good2\", \"price\":250, \"sales\":1000, \"star\":4, \"comments\":400},\\\n",
    "         {\"name\":\"good3\", \"price\":300, \"sales\":500, \"star\":3, \"comments\":400},\\\n",
    "         {\"name\":\"good4\", \"price\":400, \"sales\":1000, \"star\":5, \"comments\":1000},\\\n",
    "         {\"name\":\"good5\", \"price\":880, \"sales\":10, \"star\":5, \"comments\":40}]\n",
    "\n",
    "#print(goods)\n",
    "# sorted() 进行排序\n",
    "def my_sorted(arg):\n",
    "    price = arg['price']\n",
    "    sales = arg['sales']\n",
    "    star = arg['star']\n",
    "    comments = arg['comments']\n",
    "    data = price*0.4 + sales*0.17 + star*0.13 + comments*0.3\n",
    "    return star\n",
    "\n",
    "sorted(goods, key=my_sorted)"
   ]
  },
  {
   "cell_type": "code",
   "execution_count": 20,
   "metadata": {},
   "outputs": [
    {
     "data": {
      "text/plain": [
       "[{'name': 'good1', 'price': 200, 'sales': 100, 'star': 5, 'comments': 400},\n",
       " {'name': 'good3', 'price': 300, 'sales': 500, 'star': 3, 'comments': 400},\n",
       " {'name': 'good5', 'price': 880, 'sales': 10, 'star': 5, 'comments': 40},\n",
       " {'name': 'good2', 'price': 250, 'sales': 1000, 'star': 4, 'comments': 400},\n",
       " {'name': 'good4', 'price': 400, 'sales': 1000, 'star': 5, 'comments': 1000}]"
      ]
     },
     "execution_count": 20,
     "metadata": {},
     "output_type": "execute_result"
    }
   ],
   "source": [
    "# 用lambda函数实现\n",
    "sorted(goods, key = lambda x:x['price']*0.4 + x['sales']*0.17 + \\\n",
    "           x[\"star\"]*0.13 + x[\"comments\"]*0.3)"
   ]
  }
 ],
 "metadata": {
  "kernelspec": {
   "display_name": "Python 3",
   "language": "python",
   "name": "python3"
  },
  "language_info": {
   "codemirror_mode": {
    "name": "ipython",
    "version": 3
   },
   "file_extension": ".py",
   "mimetype": "text/x-python",
   "name": "python",
   "nbconvert_exporter": "python",
   "pygments_lexer": "ipython3",
   "version": "3.7.0"
  }
 },
 "nbformat": 4,
 "nbformat_minor": 2
}
