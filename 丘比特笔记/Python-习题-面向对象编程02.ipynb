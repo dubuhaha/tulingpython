{
 "cells": [
  {
   "cell_type": "markdown",
   "metadata": {},
   "source": [
    "### 第一一个门票系统\n",
    "- 门票的原件是100元\n",
    "- 当周末的时候门票涨价20%\n",
    "- 小孩子半价\n",
    "- 计算2个成人和1个小孩儿的平日票价"
   ]
  },
  {
   "cell_type": "code",
   "execution_count": 10,
   "metadata": {},
   "outputs": [
    {
     "name": "stdout",
     "output_type": "stream",
     "text": [
      "两个成人和一个小孩的平日门票价为：250.0\n"
     ]
    }
   ],
   "source": [
    " class Ticket():\n",
    "    def __init__(self, weekend=False, child=False):\n",
    "        self.exp = 100\n",
    "        if weekend:\n",
    "            self.inc = 1.2\n",
    "        else:\n",
    "            self.inc = 1\n",
    "        \n",
    "        if child:\n",
    "            self.discount = 0.5\n",
    "        else:\n",
    "            self.discount = 1\n",
    "            \n",
    "    def cal_price(self, num=1):\n",
    "        return self.exp * self.inc * self.discount * num\n",
    "    \n",
    "adult = Ticket()\n",
    "child = Ticket(child = True)\n",
    "total_price = adult.cal_price(2)+ child.cal_price()\n",
    "\n",
    "print(\"两个成人和一个小孩的平日门票价为：{}\".format(total_price))"
   ]
  },
  {
   "cell_type": "markdown",
   "metadata": {},
   "source": [
    "### 游戏编程：按以下要求定义一个乌龟类和鱼类并尝试编程\n",
    "- 假设游戏场景为范围（x,y）为0<=x<=10,0<=y<=10\n",
    "- 游戏生成1只乌龟和10条鱼\n",
    "- 他们的移动方向均为随机\n",
    "- 乌龟的最大移动能力是2（乌龟可以随机选择移动是1还是2），鱼的最大移动能力是1\n",
    "- 当移动到最边缘，自动向反发现移动\n",
    "- 乌龟的初始化体力为100（上限）\n",
    "- 乌龟没移动一次，体力消耗1\n",
    "- 当乌龟和鱼重叠，乌龟吃掉鱼，乌龟体力增加20\n",
    "- 鱼不计算体力\n",
    "- 当乌龟体力值为0或者鱼的数量为0是，游戏结束"
   ]
  },
  {
   "cell_type": "code",
   "execution_count": 37,
   "metadata": {},
   "outputs": [
    {
     "name": "stdout",
     "output_type": "stream",
     "text": [
      "有一条鱼被吃掉了\n",
      "有一条鱼被吃掉了\n",
      "有一条鱼被吃掉了\n",
      "有一条鱼被吃掉了\n",
      "有一条鱼被吃掉了\n",
      "有一条鱼被吃掉了\n",
      "有一条鱼被吃掉了\n",
      "有一条鱼被吃掉了\n",
      "有一条鱼被吃掉了\n",
      "有一条鱼被吃掉了\n",
      "鱼被吃完了，乌龟赢了，游戏结束！\n",
      "乌龟还剩24体力\n"
     ]
    }
   ],
   "source": [
    "import random as r\n",
    "\n",
    "class Turtle():\n",
    "    def __init__(self):\n",
    "        self.power = 100\n",
    "        \n",
    "        # 初始化乌龟的位置\n",
    "        self.x = r.randint(0,10)\n",
    "        self.y = r.randint(0,10)\n",
    "        \n",
    "    def move(self):\n",
    "        new_x = r.choice([1,2,-1,-2]) + self.x\n",
    "        new_y = r.choice([1,2,-1,-2]) + self.y\n",
    "        \n",
    "        # 判断乌龟的移动是否超出边界\n",
    "        if new_x < 0:\n",
    "            self.x = 0 - (new_x - 0)\n",
    "        elif new_x > 10:\n",
    "            self.x = 10 - (new_x - 10)\n",
    "        else:\n",
    "            self.x = new_x\n",
    "            \n",
    "        if new_y < 0:\n",
    "            self.y = 0 - (new_y - 0)\n",
    "        elif new_y > 10:\n",
    "            self.y = 10 - (new_y - 10)\n",
    "        else:\n",
    "            self.y = new_y\n",
    "            \n",
    "        # 乌龟体力-1，并返回乌龟的位置\n",
    "        self.power -= 1\n",
    "        return (self.x, self.y)\n",
    "    \n",
    "    def eat(self):\n",
    "        self.power += 20\n",
    "        if self.power >= 100:\n",
    "            self.power = 100\n",
    "\n",
    "class Fish():\n",
    "    \n",
    "    def __init__(self):\n",
    "        self.x = r.randint(0, 10)\n",
    "        self.y = r.randint(0, 10)\n",
    "        \n",
    "    def move(self):\n",
    "        new_x = r.choice([1,-1]) + self.x\n",
    "        new_y = r.choice([1,-1]) + self.y\n",
    "        \n",
    "        # 判断鱼的移动是否超出边界\n",
    "        if new_x < 0:\n",
    "            self.x = 0 - (new_x - 0)\n",
    "        elif new_x > 10:\n",
    "            self.x = 10 - (new_x - 10)\n",
    "        else:\n",
    "            self.x = new_x\n",
    "            \n",
    "        if new_y < 0:\n",
    "            self.y = 0 - (new_y - 0)\n",
    "        elif new_y > 10:\n",
    "            self.y = 10 - (new_y - 10)\n",
    "        else:\n",
    "            self.y = new_y\n",
    "            \n",
    "        # 返回鱼的位置\n",
    "        return (self.x, self.y)\n",
    "    \n",
    "turtle = Turtle()\n",
    "fish = []\n",
    "for i in range(10):\n",
    "    new_fish = Fish()\n",
    "    fish.append(new_fish)\n",
    "    \n",
    "while True:\n",
    "    if not len(fish):\n",
    "        print(\"鱼被吃完了，乌龟赢了，游戏结束！\")\n",
    "        print(\"乌龟还剩{}体力\".format(turtle.power))\n",
    "        break\n",
    "    if not turtle.power:\n",
    "        print(\"乌龟体力被耗尽了，鱼赢了，游戏结束！\")\n",
    "        print(\"还剩{}条鱼\".format(len(fish)))\n",
    "        break\n",
    "        \n",
    "    pos = turtle.move()\n",
    "    \n",
    "    # 在迭代器中做列表的删除元素是非常危险的，经常会出现一些意想不到的问题，因为迭代器\n",
    "    # 是直接引用列表元素的数据做的操作，所以，我们这里把列表拷贝一份传给迭代器，然后再\n",
    "    # 对原列表做操作\n",
    "    \n",
    "    for each_fish in fish[:]:\n",
    "        if each_fish.move() == pos:\n",
    "            turtle.eat()\n",
    "            fish.remove(each_fish)\n",
    "            print(\"有一条鱼被吃掉了\")"
   ]
  },
  {
   "cell_type": "markdown",
   "metadata": {},
   "source": [
    "### 定义一个点（point）和直线（Line）类，使用getLen方法获取两点构成的直线长度"
   ]
  },
  {
   "cell_type": "code",
   "execution_count": 43,
   "metadata": {},
   "outputs": [
    {
     "data": {
      "text/plain": [
       "5.0"
      ]
     },
     "execution_count": 43,
     "metadata": {},
     "output_type": "execute_result"
    }
   ],
   "source": [
    "import math\n",
    "\n",
    "class Point():\n",
    "    \n",
    "    def __init__(self, x=0, y=0):\n",
    "        self.x = x\n",
    "        self.y = y\n",
    "        \n",
    "    def get_x(self):\n",
    "        return self.x\n",
    "    def get_y(self):\n",
    "        return self.y\n",
    "    \n",
    "class Line():\n",
    "    \n",
    "    def __init__(self, p1, p2):\n",
    "        self.x = p1.get_x() - p2.get_x()\n",
    "        self.y = p1.get_y() - p2.get_y()\n",
    "        \n",
    "        self.len = math.sqrt(self.x*self.x + self.y*self.y)\n",
    "        \n",
    "    def get_len(self):\n",
    "        return self.len\n",
    "    \n",
    "p1 = Point(2,3)\n",
    "p2 = Point(5,7)\n",
    "line = Line(p1, p2)\n",
    "line.get_len()"
   ]
  }
 ],
 "metadata": {
  "kernelspec": {
   "display_name": "Python 3",
   "language": "python",
   "name": "python3"
  },
  "language_info": {
   "codemirror_mode": {
    "name": "ipython",
    "version": 3
   },
   "file_extension": ".py",
   "mimetype": "text/x-python",
   "name": "python",
   "nbconvert_exporter": "python",
   "pygments_lexer": "ipython3",
   "version": "3.7.0"
  }
 },
 "nbformat": 4,
 "nbformat_minor": 2
}
