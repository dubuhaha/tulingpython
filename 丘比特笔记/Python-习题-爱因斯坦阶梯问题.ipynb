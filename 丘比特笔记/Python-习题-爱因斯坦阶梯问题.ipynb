{
 "cells": [
  {
   "cell_type": "code",
   "execution_count": 1,
   "metadata": {},
   "outputs": [
    {
     "name": "stdout",
     "output_type": "stream",
     "text": [
      "1\n",
      "3\n",
      "5\n",
      "7\n",
      "9\n",
      "11\n",
      "13\n",
      "15\n",
      "17\n",
      "19\n",
      "21\n",
      "23\n",
      "25\n",
      "27\n",
      "29\n",
      "31\n",
      "33\n",
      "35\n",
      "37\n",
      "39\n",
      "41\n",
      "43\n",
      "45\n",
      "47\n",
      "49\n",
      "51\n",
      "53\n",
      "55\n",
      "57\n",
      "59\n",
      "61\n",
      "63\n",
      "65\n",
      "67\n",
      "69\n",
      "71\n",
      "73\n",
      "75\n",
      "77\n",
      "79\n",
      "81\n",
      "83\n",
      "85\n",
      "87\n",
      "89\n",
      "91\n",
      "93\n",
      "95\n",
      "97\n",
      "99\n"
     ]
    }
   ],
   "source": [
    "# 写一个程序，打印出0-100所有的奇数\n",
    "ls = range(0,100)\n",
    "\n",
    "for i in ls:\n",
    "    if i % 2 == 1:\n",
    "        print(i)"
   ]
  },
  {
   "cell_type": "markdown",
   "metadata": {},
   "source": [
    "### 爱因斯坦曾超过这样的一数学题：\n",
    "- 若有一个长阶梯，若每步上2阶，最后剩余1阶；若每步上3阶，最后剩2阶；若每步上5阶，最后剩四阶；若每步上6阶，最后剩5阶，只有每步上7阶，最后刚好已阶不剩。\n",
    "- 请写程序球该阶梯至少有多少阶"
   ]
  },
  {
   "cell_type": "code",
   "execution_count": 7,
   "metadata": {},
   "outputs": [
    {
     "name": "stdout",
     "output_type": "stream",
     "text": [
      "119\n",
      "阶梯共有119阶\n"
     ]
    }
   ],
   "source": [
    "x = 7\n",
    "i = 1\n",
    "flag = 0\n",
    "while i < 100:\n",
    "    if (x%2==1) and (x%3==2) and (x%5==4) and (x%6==5):\n",
    "        print(x)\n",
    "        flag = 1\n",
    "        break # 去掉break就会打印所有符合条件的值\n",
    "        x = 7*(i+1)\n",
    "    else:\n",
    "        x = 7*(i+1)\n",
    "    i += 1\n",
    "if flag == 1:\n",
    "    print(\"阶梯共有{}阶\".format(x))\n",
    "else:\n",
    "    print(\"找不到\")"
   ]
  }
 ],
 "metadata": {
  "kernelspec": {
   "display_name": "Python 3",
   "language": "python",
   "name": "python3"
  },
  "language_info": {
   "codemirror_mode": {
    "name": "ipython",
    "version": 3
   },
   "file_extension": ".py",
   "mimetype": "text/x-python",
   "name": "python",
   "nbconvert_exporter": "python",
   "pygments_lexer": "ipython3",
   "version": "3.7.0"
  }
 },
 "nbformat": 4,
 "nbformat_minor": 2
}
