{
 "cells": [
  {
   "cell_type": "markdown",
   "metadata": {},
   "source": [
    "### 编写一个程序，接受用户输入的内容，并且保存为新的文件\n",
    "如果用户单独输入:w 表示文件保存退出\n",
    "open() Input() \":w\""
   ]
  },
  {
   "cell_type": "code",
   "execution_count": 26,
   "metadata": {},
   "outputs": [
    {
     "name": "stdout",
     "output_type": "stream",
     "text": [
      "请用户输入文件名：test1.txt\n",
      "请输入内容，（单独输入:w 保存退出）\n",
      "你好\n",
      "请问怎么称呼\n",
      "刘先生\n",
      "请坐\n",
      "请坐\n",
      ":w\n",
      "退出编辑\n"
     ]
    }
   ],
   "source": [
    "file_name = input(\"请用户输入文件名：\")\n",
    "\n",
    "def file_write(filename):\n",
    "    f = open(filename, 'w') # 打开用户的文件，写模式\n",
    "    \n",
    "    print(\"请输入内容，（单独输入:w 保存退出）\")\n",
    "    \n",
    "    while True:\n",
    "        write_something = input()\n",
    "        # 判断用户输入的是不是 :w\n",
    "        if write_something != \":w\":\n",
    "            # 向文件中输入用户输入的内容\n",
    "            f.write(\"%s\\n\" % write_something) # 换行输入\n",
    "        else:\n",
    "            # 保用户输入都是:w\n",
    "            print(\"退出编辑\")\n",
    "            break\n",
    "    \n",
    "    f.close() # 关闭文件\n",
    "    \n",
    "file_write(file_name)"
   ]
  },
  {
   "cell_type": "markdown",
   "metadata": {},
   "source": [
    "### 编写一个程序，比较用户输入的文件是否相同，如果不同，显示出不同处的行号\n",
    "\n",
    "- f.readline()\n",
    "- open()\n",
    "- differ"
   ]
  },
  {
   "cell_type": "code",
   "execution_count": 1,
   "metadata": {},
   "outputs": [
    {
     "name": "stdout",
     "output_type": "stream",
     "text": [
      "请输入需要比较的第一个文件名：test2.txt\n",
      "请输入需要比较的第二个文件名：test1.txt\n",
      "两个文件有5处不同\n",
      "第2行不一样\n",
      "第3行不一样\n",
      "第4行不一样\n",
      "第5行不一样\n",
      "第6行不一样\n"
     ]
    }
   ],
   "source": [
    "file1 = input(\"请输入需要比较的第一个文件名：\")\n",
    "file2 = input(\"请输入需要比较的第二个文件名：\")\n",
    "\n",
    "def file_compare(file1, file2):\n",
    "    f1 = open(file1)\n",
    "    f2 = open(file2)\n",
    "    \n",
    "    count = 0 # 统计的行数\n",
    "    differ = [] #统计不一样的数量\n",
    "    \n",
    "    for line1 in f1:\n",
    "        line2 = f2.readline()\n",
    "        \n",
    "        count += 1 # 读取的行数\n",
    "        if line1 != line2: # 文件不同\n",
    "            differ.append(count)\n",
    "            \n",
    "    f1.close()\n",
    "    f2.close()\n",
    "    \n",
    "    return differ\n",
    "\n",
    "differ = file_compare(file1, file2)\n",
    "\n",
    "if len(differ) == 0:\n",
    "    print(\"两个文件完全相同\")\n",
    "else:\n",
    "    print(\"两个文件有%d处不同\" % len(differ))\n",
    "    for each in differ:\n",
    "        print(\"第%d行不一样\" % each)"
   ]
  },
  {
   "cell_type": "code",
   "execution_count": 2,
   "metadata": {
    "scrolled": true
   },
   "outputs": [
    {
     "name": "stdout",
     "output_type": "stream",
     "text": [
      "请输入需要比较的第一个文件名：test1.txt\n",
      "请输入需要比较的第二个文件名：test2.txt\n",
      "[2, 3, 4]\n",
      "两个文件有3处不同\n",
      "第2行不一样\n",
      "第3行不一样\n",
      "第4行不一样\n"
     ]
    }
   ],
   "source": [
    "file1 = input(\"请输入需要比较的第一个文件名：\")\n",
    "file2 = input(\"请输入需要比较的第二个文件名：\")\n",
    "\n",
    "# 有个问题，只会根据file1行数进行比较，file1行数<file2行数时，不会比较file2多的行\n",
    "# 可以不可以先比较哪个行数多，多的放在前面\n",
    "# 另外可不可以打印不同的行的内容?\n",
    "def file_compare(file1, file2):\n",
    "    f1 = open(file1)\n",
    "    f2 = open(file2)\n",
    "    \n",
    "    count = 0 # 统计的行数\n",
    "    differ = [] #统计不一样的数量\n",
    "    contents = []\n",
    "    for line1 in f1:\n",
    "        line2 = f2.readline()\n",
    "        \n",
    "        count += 1 # 读取的行数\n",
    "        if line1 != line2: # 文件不同\n",
    "            differ.append(count)\n",
    "            \n",
    "                           \n",
    "    f1.close()\n",
    "    f2.close()\n",
    "    \n",
    "    return differ\n",
    "\n",
    "differ = file_compare(file1, file2)\n",
    "\n",
    "print(differ)\n",
    "if len(differ) == 0:\n",
    "    print(\"两个文件完全相同\")\n",
    "else:\n",
    "    print(\"两个文件有%d处不同\" % len(differ))\n",
    "    for each in differ:\n",
    "        print(\"第%d行不一样\" % each)\n",
    "       "
   ]
  },
  {
   "cell_type": "markdown",
   "metadata": {},
   "source": [
    "### 编写一个程序，当用户输入文件名和行数的时候，奖该文件的前N行内容打印到屏幕上\n",
    "input 去接受一个文件名\n",
    "input 去接收行数\n"
   ]
  },
  {
   "cell_type": "code",
   "execution_count": 13,
   "metadata": {},
   "outputs": [
    {
     "name": "stdout",
     "output_type": "stream",
     "text": [
      "请输入你要打开的文件名：test2.txt\n",
      "请输入你要显示的前几行：10\n",
      "\n",
      "文件test2.txt的前10行的内容如下\n",
      "你好啊\n",
      "面试\n",
      "怎么面试啊\n",
      "介绍下项目\n",
      "做过哪些项目\n",
      "介绍下方法\n"
     ]
    }
   ],
   "source": [
    "file_name = input(r\"请输入你要打开的文件名：\")\n",
    "line_num = input(r\"请输入你要显示的前几行：\")\n",
    "\n",
    "def file_view(file_name, file_num):\n",
    "    print(\"\\n文件%s的前%s行的内容如下\" %(file_name, file_num))\n",
    "    \n",
    "    # 去打开file_name的文件\n",
    "    f = open(file_name)\n",
    "    for i in range(int(line_num)):\n",
    "        print(f.readline(),end=\"\")\n",
    "        \n",
    "    f.close()\n",
    "    \n",
    "file_view(file_name, line_num)"
   ]
  },
  {
   "cell_type": "markdown",
   "metadata": {},
   "source": [
    "### 我们在上一道题目的基础上增加一定功能，是用户可以随意的输入需要显示的行数\n",
    "- 使用切片功能打印想要打印的起始和结束行数 [1:3] [:] [:9]"
   ]
  },
  {
   "cell_type": "code",
   "execution_count": 22,
   "metadata": {},
   "outputs": [
    {
     "name": "stdout",
     "output_type": "stream",
     "text": [
      "请输入你要打开的文件名：test2.txt\n",
      "请输入你要显示的行数，格式为[1:9]或者[:]2:\n",
      "面试\n",
      "怎么面试啊\n",
      "介绍下项目\n",
      "做过哪些项目\n",
      "介绍下方法\n",
      "\n"
     ]
    }
   ],
   "source": [
    "file_name = input(r\"请输入你要打开的文件名：\")\n",
    "line_num = input(r\"请输入你要显示的行数，格式为[1:9]或者[:]\")\n",
    "\n",
    "def print_line(file_name, line_num):\n",
    "    f = open(file_name)\n",
    "    \n",
    "    begin, end = line_num.split(\":\")\n",
    "    \n",
    "    if begin == \"\":\n",
    "        begin = \"1\"\n",
    "    \n",
    "    if end == \"\":\n",
    "        end = \"-1\"\n",
    "        \n",
    "    begin = int(begin) - 1\n",
    "    end = int(end)\n",
    "    \n",
    "    lines = end - begin\n",
    "    \n",
    "    # 消耗掉begin之前的行数\n",
    "    for i in range(begin):\n",
    "        f.readline()\n",
    "        \n",
    "    if lines < 0:\n",
    "        print(f.read())\n",
    "    else:\n",
    "        for j in range(lines):\n",
    "            print(f.readline(), end=\"\")\n",
    "            \n",
    "    f.close()\n",
    "    \n",
    "print_line(file_name, line_num)"
   ]
  },
  {
   "cell_type": "markdown",
   "metadata": {},
   "source": [
    "### 编写一个程序，实现“全部替换”的功能\n",
    "- 打开一个文件\n",
    "- 把文件中的xxx这样的字符串，替换成 sss\n",
    "- open() 打开文件\n",
    "- readline() 读取文件内容\n",
    "- replace() 替换"
   ]
  },
  {
   "cell_type": "code",
   "execution_count": 28,
   "metadata": {},
   "outputs": [
    {
     "name": "stdout",
     "output_type": "stream",
     "text": [
      "请输入你要打开的文件名：test1.txt\n",
      "请输入你要替换的字符：sitdown\n",
      "请输入你替换的新字符：hh\n",
      "你确定要这样做吗？请输入 Yes/NoNo\n"
     ]
    }
   ],
   "source": [
    "file_name = input(r\"请输入你要打开的文件名：\")\n",
    "rep_word = input(r\"请输入你要替换的字符：\")\n",
    "new_word = input(r\"请输入你替换的新字符：\")\n",
    "\n",
    "def file_replace(file_name, rep_word, new_word):\n",
    "    f = open(file_name)\n",
    "    content = []\n",
    "    \n",
    "    for line in f:\n",
    "        if rep_word in line:\n",
    "            line = line.replace(rep_word, new_word)\n",
    "        \n",
    "        content.append(line)\n",
    "        \n",
    "    decide = input(\"你确定要这样做吗？请输入 Yes/No\")\n",
    "    if decide in [\"Yes\",\"yes\",\"YES\"]:\n",
    "        f_write = open(file_name, 'w')\n",
    "        f_write.write(\"\".join(content))\n",
    "        f_write.close()\n",
    "    else:\n",
    "        f.close()\n",
    "        \n",
    "file_replace(file_name, rep_word, new_word)"
   ]
  }
 ],
 "metadata": {
  "kernelspec": {
   "display_name": "Python 3",
   "language": "python",
   "name": "python3"
  },
  "language_info": {
   "codemirror_mode": {
    "name": "ipython",
    "version": 3
   },
   "file_extension": ".py",
   "mimetype": "text/x-python",
   "name": "python",
   "nbconvert_exporter": "python",
   "pygments_lexer": "ipython3",
   "version": "3.7.0"
  }
 },
 "nbformat": 4,
 "nbformat_minor": 2
}
