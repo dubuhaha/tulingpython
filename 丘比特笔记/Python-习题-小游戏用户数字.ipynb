{
 "cells": [
  {
   "cell_type": "code",
   "execution_count": 1,
   "metadata": {},
   "outputs": [
    {
     "data": {
      "text/plain": [
       "True"
      ]
     },
     "execution_count": 1,
     "metadata": {},
     "output_type": "execute_result"
    }
   ],
   "source": [
    "cost = 40\n",
    "(10<cost) and (cost<50)"
   ]
  },
  {
   "cell_type": "code",
   "execution_count": 8,
   "metadata": {},
   "outputs": [
    {
     "name": "stdout",
     "output_type": "stream",
     "text": [
      "请输入年份2004\n",
      "2004是瑞年\n"
     ]
    }
   ],
   "source": [
    "# 判断是不是瑞年\n",
    "year = input(\"请输入年份\")\n",
    "\n",
    "if year.isdigit():\n",
    "    year = int(year)\n",
    "    \n",
    "    if year % 100 ==0:\n",
    "        if year % 400 == 0:\n",
    "            print(str(year) + '是瑞年')\n",
    "        else:\n",
    "            print(str(year) + '不是瑞年')\n",
    "    elif year % 4 == 0:\n",
    "        print(str(year) + '是瑞年')\n",
    "    else:\n",
    "        print(str(year) + '不是瑞年')\n",
    "        \n",
    "else:\n",
    "    print(\"输入年份\")"
   ]
  },
  {
   "cell_type": "code",
   "execution_count": 18,
   "metadata": {},
   "outputs": [
    {
     "name": "stdout",
     "output_type": "stream",
     "text": [
      "请输入数字,您有3次机会2\n",
      "小了\n",
      "请输入数字,您有2次机会6\n",
      "小了\n",
      "请输入数字,您有1次机会10\n",
      "小了\n",
      "你的机会用完了，秘密数字是19\n"
     ]
    }
   ],
   "source": [
    "import random \n",
    "\n",
    "secret = random.randint(1,20)\n",
    "times = 3\n",
    "while times:\n",
    "    num = input(\"请输入数字,您有%d次机会\"%times)\n",
    "    if num.isdigit():\n",
    "        temp = int(num)\n",
    "        if temp == secret:\n",
    "            print(\"你猜对了\")\n",
    "            break\n",
    "        elif temp < secret:\n",
    "            print(\"小了\")\n",
    "            times -= 1\n",
    "        else:\n",
    "            print('大了')\n",
    "            times -= 1\n",
    "    else:\n",
    "        print(\"请输入数字\")\n",
    "if times < 1:\n",
    "    print(\"你的机会用完了，秘密数字是%d\"%secret)"
   ]
  }
 ],
 "metadata": {
  "kernelspec": {
   "display_name": "Python 3",
   "language": "python",
   "name": "python3"
  },
  "language_info": {
   "codemirror_mode": {
    "name": "ipython",
    "version": 3
   },
   "file_extension": ".py",
   "mimetype": "text/x-python",
   "name": "python",
   "nbconvert_exporter": "python",
   "pygments_lexer": "ipython3",
   "version": "3.7.0"
  }
 },
 "nbformat": 4,
 "nbformat_minor": 2
}
