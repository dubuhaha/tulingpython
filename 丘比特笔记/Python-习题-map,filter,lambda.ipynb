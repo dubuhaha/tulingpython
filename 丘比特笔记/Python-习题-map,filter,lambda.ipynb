{
 "cells": [
  {
   "cell_type": "markdown",
   "metadata": {},
   "source": [
    "### 利用map()函数，把用户输入的不规范的英文，变成首字母大写，其他字母小写的名字：\n",
    "比如说[\"ADMIN\",\"LISA\",\"JACK\"][\"Admin\",\"Lisa\",\"Jack\"]"
   ]
  },
  {
   "cell_type": "code",
   "execution_count": 62,
   "metadata": {
    "scrolled": true
   },
   "outputs": [
    {
     "name": "stdout",
     "output_type": "stream",
     "text": [
      "Admin\n",
      "Lisa\n",
      "Jack\n"
     ]
    },
    {
     "data": {
      "text/plain": [
       "['Admin', 'Lisa', 'Jack']"
      ]
     },
     "execution_count": 62,
     "metadata": {},
     "output_type": "execute_result"
    }
   ],
   "source": [
    "def standards(s):\n",
    "    #t = s.lower() # 将s全部小写\n",
    "    t = s.capitalize() # 将t的首字母大写\n",
    "    #t = s.title()\n",
    "    print(t)\n",
    "    return t\n",
    "\n",
    "ls = [\"ADMIN\",\"LISA\",\"JACK\"]\n",
    "list(map(standards, ls))\n"
   ]
  },
  {
   "cell_type": "code",
   "execution_count": 67,
   "metadata": {},
   "outputs": [
    {
     "name": "stdout",
     "output_type": "stream",
     "text": [
      "['Admin', 'Lisa', 'Jack']\n"
     ]
    }
   ],
   "source": [
    "# 利用lambda函数\n",
    "ls = [\"ADMIN\",\"LISA\",\"JACK\"]\n",
    "\n",
    "new_ls = map(lambda x:x.lower().capitalize(), ls)\n",
    "print(list(new_ls))"
   ]
  },
  {
   "cell_type": "code",
   "execution_count": 29,
   "metadata": {
    "scrolled": true
   },
   "outputs": [
    {
     "name": "stdout",
     "output_type": "stream",
     "text": [
      "[1, 2, 3, 4, 5, 6, 7, 8, 9, 11, 22, 33, 44, 55, 66, 77, 88, 99]\n"
     ]
    }
   ],
   "source": [
    "# 打印回数\n",
    "# 回数：从左向右和从右向左读都是一样的数，例如：12321，利用filter()函数\n",
    "\n",
    "def is_palindromic(n):\n",
    "    s = str(n) # 先转换成字符串\n",
    "    # 然后判断字符串首尾是否相等\n",
    "    for i in range(len(s)-1):\n",
    "        if s[i] == s[len(s)-1-i]:\n",
    "            continue\n",
    "        return False\n",
    "    return True\n",
    "\n",
    "opt = filter(is_palindromic,range(1,100))\n",
    "print(list(opt))"
   ]
  },
  {
   "cell_type": "code",
   "execution_count": 77,
   "metadata": {},
   "outputs": [
    {
     "name": "stdout",
     "output_type": "stream",
     "text": [
      "[101, 111, 121, 131, 141, 151, 161, 171, 181, 191, 202, 212, 222, 232, 242, 252, 262, 272, 282, 292, 303, 313, 323, 333, 343, 353, 363, 373, 383, 393, 404, 414, 424, 434, 444, 454, 464, 474, 484, 494, 505, 515, 525, 535, 545, 555, 565, 575, 585, 595, 606, 616, 626, 636, 646, 656, 666, 676, 686, 696, 707, 717, 727, 737, 747, 757, 767, 777, 787, 797, 808, 818, 828, 838, 848, 858, 868, 878, 888, 898, 909, 919, 929, 939, 949, 959, 969, 979, 989, 999]\n"
     ]
    }
   ],
   "source": [
    "# lambda 函数实现\n",
    "ls = range(100,1000)\n",
    "\n",
    "new_ls = filter(lambda x:str(x)[0]==str(x)[-1], ls)\n",
    "\n",
    "print(list(new_ls))"
   ]
  },
  {
   "cell_type": "code",
   "execution_count": 61,
   "metadata": {
    "scrolled": true
   },
   "outputs": [
    {
     "name": "stdout",
     "output_type": "stream",
     "text": [
      "[('Lida', 95), ('Brant', 88), ('Bob', 75), ('Ada', 85)]\n"
     ]
    }
   ],
   "source": [
    "# 假设，用一组tuple来表示学生的名字，L= [(\"Bob\",75),(\"Ada\",85),(\"Lida\",95),(\"Brant\",88)]\n",
    "# 用sorted()对上述列表按照名字排序\n",
    "\n",
    "L= [(\"Bob\",75),(\"Ada\",85),(\"Lida\",95),(\"Brant\",88)]\n",
    "\n",
    "def sort_by_name(t):\n",
    "    t = sorted(t[0], key=str.lower)\n",
    "    return t\n",
    "\n",
    "L1 = sorted(L, key=sort_by_name,reverse=True)\n",
    "print(L1)"
   ]
  },
  {
   "cell_type": "code",
   "execution_count": 69,
   "metadata": {},
   "outputs": [
    {
     "name": "stdout",
     "output_type": "stream",
     "text": [
      "[('Ada', 85), ('Bob', 75), ('Brant', 88), ('Lida', 95)]\n"
     ]
    }
   ],
   "source": [
    "# 使用lambda函数实现\n",
    "L= [(\"Bob\",75),(\"Ada\",85),(\"Lida\",95),(\"Brant\",88)]\n",
    "\n",
    "new_ls = sorted(L,key=(lambda x:x[0]))\n",
    "print(list(new_ls))"
   ]
  },
  {
   "cell_type": "code",
   "execution_count": 76,
   "metadata": {},
   "outputs": [
    {
     "name": "stdout",
     "output_type": "stream",
     "text": [
      "[('Bob', 75), ('Brant', 78), ('Ada', 85), ('Lida', 95)]\n"
     ]
    }
   ],
   "source": [
    "# 按成绩高低进行排序\n",
    "def sort_by_score(t):\n",
    "    #t = sorted(range(t[1]), key=abs)\n",
    "    \n",
    "    return t[1]\n",
    "\n",
    "L= [(\"Bob\",75),(\"Ada\",85),(\"Lida\",95),(\"Brant\",78)]\n",
    "L2 = sorted(L,key=sort_by_score)\n",
    "\n",
    "print(L2)"
   ]
  },
  {
   "cell_type": "code",
   "execution_count": 74,
   "metadata": {},
   "outputs": [
    {
     "name": "stdout",
     "output_type": "stream",
     "text": [
      "[('Bob', 75), ('Ada', 85), ('Brant', 88), ('Lida', 95)]\n"
     ]
    }
   ],
   "source": [
    "# 使用lambda函数\n",
    "L= [(\"Bob\",75),(\"Ada\",85),(\"Lida\",95),(\"Brant\",88)]\n",
    "\n",
    "new_ls = sorted(L, key = lambda x:x[1])\n",
    "print(list(new_ls))"
   ]
  }
 ],
 "metadata": {
  "kernelspec": {
   "display_name": "Python 3",
   "language": "python",
   "name": "python3"
  },
  "language_info": {
   "codemirror_mode": {
    "name": "ipython",
    "version": 3
   },
   "file_extension": ".py",
   "mimetype": "text/x-python",
   "name": "python",
   "nbconvert_exporter": "python",
   "pygments_lexer": "ipython3",
   "version": "3.7.0"
  }
 },
 "nbformat": 4,
 "nbformat_minor": 2
}
