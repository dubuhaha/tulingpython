{
 "cells": [
  {
   "cell_type": "markdown",
   "metadata": {},
   "source": [
    "# 异常\n",
    "- 广义上的错误分为错误和异常\n",
    "- 错误指的是可以人为避免\n",
    "- 异常是指在语法逻辑正确的前提下，出现的问题\n",
    "- 在python里，异常是一个类，可以处理和使用"
   ]
  },
  {
   "cell_type": "markdown",
   "metadata": {},
   "source": [
    "# 异常的分类\n"
   ]
  },
  {
   "cell_type": "code",
   "execution_count": 7,
   "metadata": {},
   "outputs": [
    {
     "name": "stdout",
     "output_type": "stream",
     "text": [
      "Please input your num0\n"
     ]
    },
    {
     "ename": "ZeroDivisionError",
     "evalue": "division by zero",
     "output_type": "error",
     "traceback": [
      "\u001b[1;31m---------------------------------------------------------------------------\u001b[0m",
      "\u001b[1;31mZeroDivisionError\u001b[0m                         Traceback (most recent call last)",
      "\u001b[1;32m<ipython-input-7-042d5b008d48>\u001b[0m in \u001b[0;36m<module>\u001b[1;34m()\u001b[0m\n\u001b[0;32m      2\u001b[0m \u001b[1;33m\u001b[0m\u001b[0m\n\u001b[0;32m      3\u001b[0m \u001b[0mnum\u001b[0m \u001b[1;33m=\u001b[0m \u001b[0mint\u001b[0m\u001b[1;33m(\u001b[0m\u001b[0minput\u001b[0m\u001b[1;33m(\u001b[0m\u001b[1;34m\"Please input your num\"\u001b[0m\u001b[1;33m)\u001b[0m\u001b[1;33m)\u001b[0m\u001b[1;33m\u001b[0m\u001b[0m\n\u001b[1;32m----> 4\u001b[1;33m \u001b[0mprint\u001b[0m\u001b[1;33m(\u001b[0m\u001b[1;36m100\u001b[0m\u001b[1;33m/\u001b[0m\u001b[0mnum\u001b[0m\u001b[1;33m)\u001b[0m\u001b[1;33m\u001b[0m\u001b[0m\n\u001b[0m",
      "\u001b[1;31mZeroDivisionError\u001b[0m: division by zero"
     ]
    }
   ],
   "source": [
    "l = [1,2,3,4,5,6]\n",
    "\n",
    "num = int(input(\"Please input your num\"))\n",
    "print(100/num)"
   ]
  },
  {
   "cell_type": "markdown",
   "metadata": {},
   "source": [
    "# 异常处理\n",
    "- 不能保证程序永远正确运行\n",
    "- 但是，必须保证程序在最坏的情况下得到的问题被妥善处理\n",
    "- python的异常处理模块全部预防为：\n",
    "    \n",
    "       try:\n",
    "           尝试实现某个操作\n",
    "           如果没出现异常，任务可以完成\n",
    "           如果出现异常，将异常从当前代码块扔出去尝试解决异常\n",
    "           \n",
    "       except 异常类型1：\n",
    "           解决方案1：用于尝试在此处处理异常解决问题\n",
    "           \n",
    "       except 异常类型2:\n",
    "           解决方案2: 用于尝试在此处处理异常解决问题\n",
    "       \n",
    "       except (异常类型1，异常类型2...):\n",
    "           解决方案：针对多个异常使用相同的处理方式\n",
    "           \n",
    "       except:\n",
    "           解决方案: 所有异常的解决方案\n",
    "           \n",
    "       else:\n",
    "           如果没有出现任何异常，将会执行此处代码\n",
    "           \n",
    "       finally:\n",
    "           管你有没有异常都要执行此处代码\n",
    "           \n",
    "- 流程\n",
    "    1. 执行try下面的语句\n",
    "    2. 如果出现异常，则在except语句里查找对应异常并进行处理\n",
    "    3. 如果没有出现异常，则执行else语句内容\n",
    "    4. 最后，不过是否出现异常，都要执行finally语句\n",
    "- 除except（最少一个）以外，else和finally是可选的\n"
   ]
  },
  {
   "cell_type": "code",
   "execution_count": 1,
   "metadata": {},
   "outputs": [
    {
     "name": "stdout",
     "output_type": "stream",
     "text": [
      "Please input your number:0\n",
      "输入错误\n"
     ]
    }
   ],
   "source": [
    "# 简答异常案例\n",
    "try:\n",
    "    num = int(input(\"Please input your number:\"))\n",
    "    rst = 100/num\n",
    "    print(\"计算结果是：{}\".format(rst))\n",
    "except:\n",
    "    print(\"输入错误\")\n",
    "    # exit是退出程序\n",
    "    exit()"
   ]
  },
  {
   "cell_type": "code",
   "execution_count": 1,
   "metadata": {},
   "outputs": [
    {
     "name": "stdout",
     "output_type": "stream",
     "text": [
      "Please input your number:0\n",
      "输入错误\n",
      "division by zero\n"
     ]
    }
   ],
   "source": [
    "# 简答异常案例\n",
    "# 给出提示信息\n",
    "try:\n",
    "    num = int(input(\"Please input your number:\"))\n",
    "    rst = 100/num\n",
    "    print(\"计算结果是：{}\".format(rst))\n",
    "# 捕获异常后，把异常实例化，出错信息会在实例里\n",
    "# 注意以下写法\n",
    "# 以下语句是补货ZeroDivisionError异常并实例化实例e\n",
    "except ZeroDivisionError as e:\n",
    "    print(\"输入错误\")\n",
    "    print(e)\n",
    "    # exit是退出程序\n",
    "    exit()\n",
    "    \n",
    "# 作业： 为什么我们可以直接打印出实例e，此时实例e应该实现了哪个函数"
   ]
  },
  {
   "cell_type": "code",
   "execution_count": 4,
   "metadata": {},
   "outputs": [
    {
     "name": "stdout",
     "output_type": "stream",
     "text": [
      "Please input your number:9\n",
      "计算结果是：11.11111111111111\n",
      "哈哈哈哈\n"
     ]
    }
   ],
   "source": [
    "# 简答异常案例\n",
    "# 给出提示信息\n",
    "try:\n",
    "    num = int(input(\"Please input your number:\"))\n",
    "    rst = 100/num\n",
    "    print(\"计算结果是：{}\".format(rst))\n",
    "# 如果是多种error的情况\n",
    "# 需要把越具体的错误，越往前放\n",
    "# 在异常类继承关系中，越是子类的异常，越要往前放\n",
    "# 越是父类的异常，越要往后放\n",
    "# 在处理异常的时候，一旦拦截到某一个异常，则不再继续往下查看，直接进行下一个\n",
    "# 代码，即有finally则执行finally语句块，否则就执行下一个大的语句块\n",
    "except ZeroDivisionError as e:\n",
    "    print(\"输入错误\")\n",
    "    print(e)\n",
    "    # exit是退出程序\n",
    "    exit()\n",
    "except NameError as e:\n",
    "    print(\"名字起错了\")\n",
    "    print(e)\n",
    "    exit()\n",
    "except AttributeError as e:\n",
    "    print(\"属性问题\")\n",
    "    print(e)\n",
    "    exit()\n",
    "    \n",
    "# 所有异常都是继承自Exception\n",
    "# 如果写上下面这句话，任何异常都会拦截住\n",
    "# 而且，下面这句话一定是最后一个exception\n",
    "except Exception as e:\n",
    "    print(\"我也不知道哪错了\")\n",
    "    print(e)\n",
    "    \n",
    "print(\"哈哈哈哈\")"
   ]
  },
  {
   "cell_type": "markdown",
   "metadata": {},
   "source": [
    "# 用户手动引发异常\n",
    "- 当某些情况，用户希望自己引发一个异常的时候，可以使用 raise 关键字来引发异常"
   ]
  },
  {
   "cell_type": "code",
   "execution_count": 10,
   "metadata": {},
   "outputs": [
    {
     "name": "stdout",
     "output_type": "stream",
     "text": [
      "我爱你中国\n",
      "3.1415926\n",
      "ValueError\n",
      "我肯定会被执行的\n"
     ]
    }
   ],
   "source": [
    "# raise 案例\n",
    "try:\n",
    "    print(\"我爱你中国\")\n",
    "    print(3.1415926)\n",
    "    # 手动引发一个异常\n",
    "    # 注意语法：raise ErrorClassName\n",
    "    raise ValueError\n",
    "    print(\"怎么还没完\")\n",
    "except NameError as e:\n",
    "    print(\"NameError\")\n",
    "except ValueError as e:\n",
    "    print(\"ValueError\")\n",
    "except Exception as e:\n",
    "    print(\"又异常\")\n",
    "finally:\n",
    "    print(\"我肯定会被执行的\")"
   ]
  },
  {
   "cell_type": "code",
   "execution_count": 15,
   "metadata": {},
   "outputs": [
    {
     "name": "stdout",
     "output_type": "stream",
     "text": [
      "我爱你中国\n",
      "3.1415926\n",
      "DanaValueError\n",
      "我肯定会被执行的\n"
     ]
    }
   ],
   "source": [
    "# raise 案例 2\n",
    "# 自己定义异常\n",
    "# 需要注意： 自定义异常必须是系统异常的子类\n",
    "class DanaValueError(ValueError):\n",
    "    pass\n",
    "\n",
    "try:\n",
    "    print(\"我爱你中国\")\n",
    "    print(3.1415926)\n",
    "    # 手动引发一个异常\n",
    "    # 注意语法：raise ErrorClassName\n",
    "    raise DanaValueError\n",
    "    print(\"怎么还没完\")\n",
    "except NameError as e:\n",
    "    print(\"NameError\")\n",
    "except DanaValueError as e:\n",
    "    print(\"DanaValueError\")\n",
    "except ValueError as e:\n",
    "    print(\"ValueError\")\n",
    "except Exception as e:\n",
    "    print(\"又异常\")\n",
    "finally:\n",
    "    print(\"我肯定会被执行的\")"
   ]
  },
  {
   "cell_type": "code",
   "execution_count": 19,
   "metadata": {},
   "outputs": [
    {
     "name": "stdout",
     "output_type": "stream",
     "text": [
      "Please input your number:8\n",
      "计算结果是：12.5\n",
      "No Exception\n",
      "反正我会被执行\n"
     ]
    }
   ],
   "source": [
    "# else语句案例\n",
    "\n",
    "try:\n",
    "    num = int(input(\"Please input your number:\"))\n",
    "    rst = 100/num\n",
    "    print(\"计算结果是：{}\".format(rst))\n",
    "except Exception as e:\n",
    "    print(\"Exception\")\n",
    "    \n",
    "else:\n",
    "    print(\"No Exception\")\n",
    "finally:\n",
    "    print(\"反正我会被执行\")"
   ]
  },
  {
   "cell_type": "markdown",
   "metadata": {},
   "source": [
    "# 关于自定义异常\n",
    "- 只要是raise异常，则推荐自定义异常\n",
    "- 在自定义异常的时候，一般包含以下内容：\n",
    "    - 自定义发生异常的异常代码\n",
    "    - 自定义发生异常后的问题提示\n",
    "    - 自定义发生异常的行数\n",
    "- 最终的目的是，一旦发生异常，方便程序员快速定位错误现场"
   ]
  },
  {
   "cell_type": "code",
   "execution_count": null,
   "metadata": {},
   "outputs": [],
   "source": []
  }
 ],
 "metadata": {
  "kernelspec": {
   "display_name": "Python 3",
   "language": "python",
   "name": "python3"
  },
  "language_info": {
   "codemirror_mode": {
    "name": "ipython",
    "version": 3
   },
   "file_extension": ".py",
   "mimetype": "text/x-python",
   "name": "python",
   "nbconvert_exporter": "python",
   "pygments_lexer": "ipython3",
   "version": "3.7.0"
  }
 },
 "nbformat": 4,
 "nbformat_minor": 2
}
