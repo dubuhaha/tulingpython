{
 "cells": [
  {
   "cell_type": "code",
   "execution_count": 4,
   "metadata": {},
   "outputs": [
    {
     "name": "stdout",
     "output_type": "stream",
     "text": [
      "被减数不能小于减数\n"
     ]
    }
   ],
   "source": [
    "def mysub(a, b):\n",
    "    try:\n",
    "        if a < b:\n",
    "            raise BaseException(\"被减数不能小于减数\")\n",
    "        else:\n",
    "            c = a -b \n",
    "    except BaseException as e:\n",
    "        print(e)\n",
    "        #print(\"好像出错了，出错的内容是{}\".format(e))\n",
    "    else:\n",
    "        print(\"计算结束，结果是：{}\".format(c))\n",
    "mysub(21,30)"
   ]
  },
  {
   "cell_type": "code",
   "execution_count": 4,
   "metadata": {
    "scrolled": true
   },
   "outputs": [
    {
     "name": "stdout",
     "output_type": "stream",
     "text": [
      "好像出错了，出错的内容是被减数不能小于减数\n"
     ]
    }
   ],
   "source": [
    "def mysub(a, b):\n",
    "    if a < b:\n",
    "        raise BaseException(\"被减数不能小于减数\")\n",
    "    else:\n",
    "        return a -b \n",
    "try:\n",
    "    mysub(2, 4)\n",
    "except BaseException as e:\n",
    "    print(\"好像出错了，出错的内容是{}\".format(e))"
   ]
  },
  {
   "cell_type": "code",
   "execution_count": 32,
   "metadata": {
    "scrolled": true
   },
   "outputs": [
    {
     "name": "stdout",
     "output_type": "stream",
     "text": [
      "即将到来简单了就废了j\n"
     ]
    }
   ],
   "source": [
    "import os\n",
    "\n",
    "def func(filename):\n",
    "    try:\n",
    "        file = open(filename)\n",
    "    except Exception as e:\n",
    "        print(\"出错了，出错的内容是{}\".format(e))\n",
    "    else:\n",
    "        print(file.read())\n",
    "        file.close()\n",
    "\n",
    "func(\"hhh.txt\")"
   ]
  },
  {
   "cell_type": "markdown",
   "metadata": {},
   "source": [
    "### 定义一个异常类，继承Exception，捕获下面的过程：判断输入的字符串长度是否小于5"
   ]
  },
  {
   "cell_type": "code",
   "execution_count": 10,
   "metadata": {},
   "outputs": [
    {
     "name": "stdout",
     "output_type": "stream",
     "text": [
      "字符串长度必须大于5\n"
     ]
    }
   ],
   "source": [
    "class MyError(Exception):\n",
    "    def __init__(self, stri):\n",
    "        self.stri = stri\n",
    "        \n",
    "    def process(self):\n",
    "        if len(self.stri) < 5:\n",
    "            #raise BaseException(\"字符串长度必须大于5\")\n",
    "            print(\"字符串长度必须大于5\")\n",
    "        else:\n",
    "            print(self.stri)\n",
    "\n",
    "            \n",
    "try:\n",
    "    er = MyError(\"SSS\")\n",
    "    er.process()\n",
    "except MyError as e:\n",
    "    print(e)"
   ]
  },
  {
   "cell_type": "code",
   "execution_count": 18,
   "metadata": {
    "scrolled": false
   },
   "outputs": [
    {
     "name": "stdout",
     "output_type": "stream",
     "text": [
      "['m', 'A', '1', '3', '0', 'C']\n",
      "mA130C\n"
     ]
    }
   ],
   "source": [
    "# 写一个6位随机验证码程序（使用random模块）\n",
    "# 要求验证码中至少包含一个数字，一个小写字母和一个大写字母\n",
    "import random\n",
    "import string\n",
    "\n",
    "code = []\n",
    "code.append(random.choice(string.b)) # 保证验证码有一个小写字母\n",
    "code.append(random.choice(string.ascii_uppercase)) # 保证验证码有一个大写字母\n",
    "code.append(random.choice(string.digits)) # 保证验证码有一个数字\n",
    "\n",
    "while len(code) < 6:\n",
    "    code.append(random.choice(string.ascii_lowercase+string.ascii_uppercase+string.digits))\n",
    "\n",
    "print(code)\n",
    "q_code = ''.join(code)\n",
    "print(q_code)"
   ]
  },
  {
   "cell_type": "markdown",
   "metadata": {},
   "source": [
    "### 写一个用户登录验证程序，文件如下 1234.json\n",
    "##### 1234.json\n",
    "{\"expire_date\":\"2021-01-01\",\"id\":1234,\"status\":0,\"pay_day\":22,\"password\":\"abc\"}\n",
    "- 用户名为json的文件名\n",
    "- 判断是否过期，与expire_date做比较\n",
    "- 登录成功后答应登录成功，三次登录失败，status值改为1，并且锁定账号"
   ]
  },
  {
   "cell_type": "code",
   "execution_count": 1,
   "metadata": {},
   "outputs": [
    {
     "name": "stdout",
     "output_type": "stream",
     "text": [
      "请输入用户名：1234\n",
      "请输入密码521\n",
      "请输入密码624\n",
      "请输入密码abc\n",
      "登录成功\n"
     ]
    }
   ],
   "source": [
    "import os\n",
    "import time\n",
    "import json\n",
    "\n",
    "count = 0\n",
    "exit_flag = False\n",
    "\n",
    "while count < 3:\n",
    "    user = input(\"请输入用户名：\")\n",
    "    f = user.strip() +\".json\"\n",
    "    if os.path.exists(f):\n",
    "        fp = open(f, \"r+\", encoding=\"utf-8\")\n",
    "        j_user = json.load(fp)\n",
    "        if j_user['status'] == 1:\n",
    "            print(\"账号已经被锁定，请稍后再试\")\n",
    "            break\n",
    "        else:\n",
    "            expire_dt = j_user['expire_date']\n",
    "            current_st = time.time()\n",
    "            expire_st = time.mktime(time.strptime(expire_dt,\"%Y-%m-%d\"))\n",
    "            \n",
    "            if current_st > expire_st:\n",
    "                print(\"用户登录信息已经过期\")\n",
    "                break\n",
    "            else:\n",
    "                while count < 3:\n",
    "                    pwd = input(\"请输入密码\")\n",
    "                    if pwd.strip() == j_user['password']:\n",
    "                        print(\"登录成功\")\n",
    "                        exit_flag = True\n",
    "                        break\n",
    "                    else:\n",
    "                        #print(\"密码错误，请重新输入\")\n",
    "                        if count == 2:\n",
    "                            print(\"用户登录次数已经超过3次，锁定账号，请稍后重试\")\n",
    "                            j_user['status'] = 1\n",
    "                            fp.seek(0)\n",
    "                            #fp.truncate() # 清空文件内容\n",
    "                            json.dump(j_user,fp)\n",
    "                    count += 1\n",
    "    if exit_flag:\n",
    "        break\n",
    "    else:\n",
    "        print(\"用户不存在\")\n",
    "        count += 1"
   ]
  }
 ],
 "metadata": {
  "kernelspec": {
   "display_name": "Python 3",
   "language": "python",
   "name": "python3"
  },
  "language_info": {
   "codemirror_mode": {
    "name": "ipython",
    "version": 3
   },
   "file_extension": ".py",
   "mimetype": "text/x-python",
   "name": "python",
   "nbconvert_exporter": "python",
   "pygments_lexer": "ipython3",
   "version": "3.7.0"
  }
 },
 "nbformat": 4,
 "nbformat_minor": 2
}
