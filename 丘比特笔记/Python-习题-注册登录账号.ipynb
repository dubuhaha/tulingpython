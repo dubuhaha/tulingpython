{
 "cells": [
  {
   "cell_type": "code",
   "execution_count": 16,
   "metadata": {},
   "outputs": [
    {
     "name": "stdout",
     "output_type": "stream",
     "text": [
      "恭喜你，登录成功！\n"
     ]
    }
   ],
   "source": [
    "user_pass = {\"test01\":\"01pw\",\"test02\":\"02pw\",'test03':\"03pw\"}\n",
    "def create_user(username, password):\n",
    "    '''\n",
    "    username: 用户名\n",
    "    password：密码\n",
    "    '''\n",
    "    # 判断用户输入的账号是否已经存在\n",
    "    usernames = user_pass.keys()\n",
    "    \n",
    "    if username in usernames:\n",
    "        print(\"这个用户名已经被注册了，换一个吧！\")\n",
    "    else:\n",
    "        # 没有注册，那么就跟新我们的user_pass\n",
    "        # 实际情况是会做持久化存储到数据库中\n",
    "        user_pass[username] = password\n",
    "        print(\"恭喜你，注册成功！\")\n",
    "        \n",
    "# create_user(\"test04\", '123')\n",
    "# print(user_pass)\n",
    "\n",
    "def login_user(username,password):\n",
    "    # 首先判断登录的用户是否存在\n",
    "    usernames = user_pass.keys()\n",
    "    \n",
    "    if username not in usernames:\n",
    "        print(\"您还没有注册，请先注册！\")\n",
    "    elif password != user_pass[username]:\n",
    "        # 判断密码是否正常\n",
    "        print(\"您输入的用户名密码不匹配，请重新输入！\")\n",
    "    else:\n",
    "        print(\"恭喜你，登录成功！\")\n",
    "        \n",
    "login_user('test01','01pw')"
   ]
  }
 ],
 "metadata": {
  "kernelspec": {
   "display_name": "Python 3",
   "language": "python",
   "name": "python3"
  },
  "language_info": {
   "codemirror_mode": {
    "name": "ipython",
    "version": 3
   },
   "file_extension": ".py",
   "mimetype": "text/x-python",
   "name": "python",
   "nbconvert_exporter": "python",
   "pygments_lexer": "ipython3",
   "version": "3.7.0"
  }
 },
 "nbformat": 4,
 "nbformat_minor": 2
}
